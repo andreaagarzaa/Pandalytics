{
 "cells": [
  {
   "cell_type": "markdown",
   "id": "8fe4569d262e61e9",
   "metadata": {},
   "source": [
    "# 5.1 Código ML (INDIVIDUAL) - Avance Evidencia 2\n",
    "Equipo 1\n",
    "Hiram Maximiliano Muñoz Ramirez A01197991"
   ]
  },
  {
   "cell_type": "code",
   "id": "df63fe274bef0a5f",
   "metadata": {
    "ExecuteTime": {
     "end_time": "2024-05-05T03:10:43.424727Z",
     "start_time": "2024-05-05T03:10:43.253600Z"
    }
   },
   "source": [
    "import pandas as pd\n",
    "from tempfile import mkdtemp\n",
    "from sklearn import pipeline, preprocessing, feature_selection, compose, linear_model, model_selection, svm, ensemble\n",
    "\n",
    "coating_df = pd.read_feather('data/pinturas_revestidos_jul20_ago23.feather')"
   ],
   "outputs": [],
   "execution_count": 1
  },
  {
   "cell_type": "code",
   "id": "904e3357f7be10cd",
   "metadata": {
    "ExecuteTime": {
     "end_time": "2024-05-05T03:10:43.428860Z",
     "start_time": "2024-05-05T03:10:43.425623Z"
    }
   },
   "source": [
    "class NullColumnRemover:\n",
    "    null_threshold = 0.0\n",
    "    columns_to_keep = None\n",
    "\n",
    "    def __init__(self, null_threshold):\n",
    "        self.null_threshold = null_threshold\n",
    "\n",
    "    def get_params(self, deep):\n",
    "        return {\n",
    "            'null_threshold': self.null_threshold\n",
    "        }\n",
    "\n",
    "    def fit(self, X, y=None):\n",
    "        null_percents = pd.isna(X).sum(axis=0) / X.shape[0]\n",
    "        self.columns_to_keep = null_percents[null_percents < self.null_threshold].index\n",
    "        return self\n",
    "\n",
    "    def transform(self, X):\n",
    "        return X[self.columns_to_keep]\n",
    "\n",
    "    def get_feature_names_out(self, input_features=None):\n",
    "        return self.columns_to_keep.values\n",
    "\n",
    "\n",
    "cachedir = mkdtemp()\n",
    "cleaner = pipeline.Pipeline([\n",
    "    ('null_threshold', NullColumnRemover(0.05)),\n",
    "    ('scaling_and_one_hot', compose.ColumnTransformer([\n",
    "        ('one_hot', preprocessing.OneHotEncoder(sparse_output=False, handle_unknown='infrequent_if_exist'),\n",
    "         compose.make_column_selector(dtype_include='category')),\n",
    "        ('scaler', preprocessing.StandardScaler(), compose.make_column_selector(dtype_include=['float64']))\n",
    "    ])),\n",
    "    ('variance_threshold', feature_selection.VarianceThreshold()),\n",
    "], memory=cachedir)\n",
    "\n",
    "scoring = [\n",
    "    'neg_mean_squared_error',\n",
    "    'neg_root_mean_squared_error',\n",
    "    'neg_mean_absolute_error',\n",
    "    'r2',\n",
    "    'neg_mean_absolute_percentage_error',\n",
    "]\n",
    "\n",
    "\n"
   ],
   "outputs": [],
   "execution_count": 2
  },
  {
   "cell_type": "code",
   "id": "bc4c30f67d7a58d0",
   "metadata": {
    "ExecuteTime": {
     "end_time": "2024-05-05T03:10:48.878396Z",
     "start_time": "2024-05-05T03:10:43.429564Z"
    }
   },
   "source": [
    "cleaner.fit(coating_df.drop(columns='total_liters_used'))\n",
    "for feature in cleaner.get_feature_names_out(input_features=coating_df.drop(columns='total_liters_used').columns.values):\n",
    "    print(feature)\n"
   ],
   "outputs": [
    {
     "name": "stderr",
     "output_type": "stream",
     "text": [
      "\n",
      "KeyboardInterrupt\n",
      "\n"
     ]
    }
   ],
   "execution_count": 3
  },
  {
   "cell_type": "code",
   "id": "22b53c441bd18ec8",
   "metadata": {},
   "source": [
    "lasso_pipeline = pipeline.Pipeline([\n",
    "    ('cleaner', cleaner),\n",
    "    ('lasso', linear_model.Lasso())\n",
    "], memory=cachedir)"
   ],
   "outputs": [],
   "execution_count": null
  },
  {
   "cell_type": "code",
   "id": "e920a982adc55495",
   "metadata": {},
   "source": [
    "lasso_pipeline"
   ],
   "outputs": [],
   "execution_count": null
  },
  {
   "cell_type": "code",
   "id": "d40c76e802ae92a3",
   "metadata": {},
   "source": [
    "\n",
    "lasso_grid = model_selection.GridSearchCV(lasso_pipeline, param_grid={\n",
    "    'lasso__alpha': [0.1, 0.5, 1, 2],\n",
    "}, scoring='neg_mean_squared_error', refit=True)\n",
    "\n",
    "lasso_scores = model_selection.cross_validate(lasso_grid, coating_df.drop(columns='total_liters_used'),\n",
    "                                              coating_df['total_liters_used'], scoring=scoring)"
   ],
   "outputs": [],
   "execution_count": null
  },
  {
   "cell_type": "code",
   "id": "39838ee50554dae4",
   "metadata": {},
   "source": [
    "svm_pipeline = pipeline.Pipeline([\n",
    "    ('cleaner', cleaner),\n",
    "    ('svr', svm.LinearSVR())\n",
    "], memory=cachedir)"
   ],
   "outputs": [],
   "execution_count": null
  },
  {
   "cell_type": "code",
   "id": "1b9ee0cea3457ad3",
   "metadata": {},
   "source": [
    "svm_pipeline"
   ],
   "outputs": [],
   "execution_count": null
  },
  {
   "cell_type": "code",
   "id": "a158beb6a31c758c",
   "metadata": {},
   "source": [
    "\n",
    "svm_grid = model_selection.GridSearchCV(svm_pipeline, param_grid={\n",
    "    'svr__C': [2.5, 5, 10, 20],\n",
    "}, scoring='neg_mean_squared_error', refit=True)\n",
    "\n",
    "svm_scores = model_selection.cross_validate(svm_grid, coating_df.drop(columns='total_liters_used'),\n",
    "                                            coating_df['total_liters_used'], scoring=scoring)"
   ],
   "outputs": [],
   "execution_count": null
  },
  {
   "cell_type": "code",
   "id": "2d509dad33994ab4",
   "metadata": {},
   "source": [
    "gradient_booster_pipeline = pipeline.Pipeline([\n",
    "    ('cleaner', cleaner),\n",
    "    ('gradient_booster', ensemble.HistGradientBoostingRegressor(max_iter=100))\n",
    "])"
   ],
   "outputs": [],
   "execution_count": null
  },
  {
   "cell_type": "code",
   "id": "fe989b5ca4ef8fab",
   "metadata": {},
   "source": [
    "gradient_booster_pipeline"
   ],
   "outputs": [],
   "execution_count": null
  },
  {
   "cell_type": "code",
   "id": "820549421492df77",
   "metadata": {},
   "source": [
    "\n",
    "gradient_booster_grid = model_selection.GridSearchCV(gradient_booster_pipeline, param_grid={\n",
    "    'gradient_booster__learning_rate': [0.05, 0.1, 0.25, 0.5],\n",
    "}, scoring='neg_mean_squared_error', refit=True)\n",
    "\n",
    "gradient_booster_scores = model_selection.cross_validate(gradient_booster_grid,\n",
    "                                                         coating_df.drop(columns='total_liters_used'),\n",
    "                                                         coating_df['total_liters_used'],\n",
    "                                                         scoring=scoring)"
   ],
   "outputs": [],
   "execution_count": null
  },
  {
   "cell_type": "code",
   "id": "bca1d57fc9acf185",
   "metadata": {},
   "source": [
    "lasso_scores_df = pd.DataFrame(lasso_scores)\n",
    "lasso_scores_df"
   ],
   "outputs": [],
   "execution_count": null
  },
  {
   "cell_type": "code",
   "id": "761c1f886b4bff9d",
   "metadata": {},
   "source": [
    "svm_scores_df = pd.DataFrame(svm_scores)\n",
    "svm_scores_df"
   ],
   "outputs": [],
   "execution_count": null
  },
  {
   "cell_type": "code",
   "id": "78eda1bd97f66ab2",
   "metadata": {},
   "source": [
    "gradient_booster_scores_df = pd.DataFrame(gradient_booster_scores)\n",
    "gradient_booster_scores_df"
   ],
   "outputs": [],
   "execution_count": null
  },
  {
   "cell_type": "markdown",
   "id": "c5c70192648f3361",
   "metadata": {},
   "source": [
    "El mejor modelo es claramente el de **Gradient Boost**. Este modelo presenta el menor error en todas las pruebas, por lo cual claramente resulta la mejora elección para la predicción del consumo de pintura. Los otros dos modelos comparten la característica de ser modelos lineales, por lo que no son ideales para realizar esta regresión."
   ]
  },
  {
   "cell_type": "code",
   "id": "cad4e1916b9e591a",
   "metadata": {},
   "source": [
    "coating_df._get_numeric_data()"
   ],
   "outputs": [],
   "execution_count": null
  },
  {
   "cell_type": "code",
   "id": "6d7c291bdad95f3d",
   "metadata": {},
   "source": [
    "import seaborn as sns\n",
    "from matplotlib import pyplot as plt\n",
    "\n",
    "%matplotlib inline\n",
    "\n",
    "corr = coating_df._get_numeric_data().drop(columns=['pos', 'nom_1']).corr().round(2)\n",
    "corr"
   ],
   "outputs": [],
   "execution_count": null
  },
  {
   "cell_type": "code",
   "id": "2c4267bf21d9fe4d",
   "metadata": {},
   "source": [
    "plt.figure(figsize=(8, 8))\n",
    "sns.heatmap(corr, annot=True)\n",
    "plt.show()\n"
   ],
   "outputs": [],
   "execution_count": null
  }
 ],
 "metadata": {
  "kernelspec": {
   "display_name": "Python 3 (ipykernel)",
   "language": "python",
   "name": "python3"
  },
  "language_info": {
   "codemirror_mode": {
    "name": "ipython",
    "version": 3
   },
   "file_extension": ".py",
   "mimetype": "text/x-python",
   "name": "python",
   "nbconvert_exporter": "python",
   "pygments_lexer": "ipython3",
   "version": "3.12.3"
  }
 },
 "nbformat": 4,
 "nbformat_minor": 5
}
