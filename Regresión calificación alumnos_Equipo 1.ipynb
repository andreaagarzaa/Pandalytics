{
 "cells": [
  {
   "cell_type": "markdown",
   "id": "c710caa2-990b-488e-b274-c3cc61a46dae",
   "metadata": {},
   "source": [
    "# Regresión calificación alumnos\n",
    "Pandalytics - Equipo 1\n",
    "* **A00832444** | Andrea Garza\n",
    "* **A01197991** | Hiram Maximiliano Muñoz Ramírez\n",
    "* **A00517124** | Erick Orlando Hernández Vallejo\n",
    "* **A01197655** | Raúl Isaí Murillo Alemán\n",
    "* **A01235692** | David Gerardo Martíne Hidrogo"
   ]
  },
  {
   "cell_type": "code",
   "id": "4e5c62e9-d2f9-433f-8a33-30c12b3b9168",
   "metadata": {
    "ExecuteTime": {
     "end_time": "2024-04-19T19:58:43.867382Z",
     "start_time": "2024-04-19T19:58:43.864400Z"
    }
   },
   "source": [
    "import pandas as pd\n",
    "from sklearn.preprocessing import PolynomialFeatures\n",
    "import statsmodels.api as sm\n",
    "import matplotlib.pyplot as plt\n",
    "import seaborn as sns\n",
    "import numpy as np\n",
    "from sklearn.metrics import mean_squared_error\n",
    "from sklearn.model_selection import train_test_split\n",
    "from sklearn.preprocessing import StandardScaler\n",
    "from sklearn.feature_selection import SelectKBest, f_regression, f_classif\n",
    "%matplotlib inline"
   ],
   "execution_count": 22,
   "outputs": []
  },
  {
   "cell_type": "code",
   "id": "a7adfccf-426b-4681-8b73-fc39977edb49",
   "metadata": {
    "ExecuteTime": {
     "end_time": "2024-04-19T19:58:43.897561Z",
     "start_time": "2024-04-19T19:58:43.890797Z"
    }
   },
   "source": [
    "students_df = pd.read_csv('data_estudiantes.csv')\n",
    "students_df"
   ],
   "execution_count": 23,
   "outputs": []
  },
  {
   "cell_type": "markdown",
   "id": "b333fd04-63d2-4847-8e4f-0c66db16d96b",
   "metadata": {},
   "source": [
    "## Pairplot"
   ]
  },
  {
   "cell_type": "code",
   "id": "1b4d9aaa-85d8-4ae5-a770-d30f26a89f61",
   "metadata": {
    "ExecuteTime": {
     "end_time": "2024-04-19T19:58:49.139560Z",
     "start_time": "2024-04-19T19:58:43.898320Z"
    }
   },
   "source": [
    "sns.pairplot(data=students_df, diag_kind='kde')"
   ],
   "execution_count": 24,
   "outputs": []
  },
  {
   "cell_type": "markdown",
   "id": "9252c1c9-fed7-49df-805e-de373a786bda",
   "metadata": {},
   "source": [
    "## Nivel de significancia de las variables p-value"
   ]
  },
  {
   "cell_type": "code",
   "id": "3738c48f-0fe4-4a42-be11-a8bbe714214c",
   "metadata": {
    "ExecuteTime": {
     "end_time": "2024-04-19T19:58:49.335234Z",
     "start_time": "2024-04-19T19:58:49.140385Z"
    }
   },
   "source": [
    "\n",
    "correlations = students_df.corr()\n",
    "plt.figure(figsize=(9, 9))\n",
    "sns.heatmap(correlations, annot=True, square=True, vmin=-1, vmax=1, cmap=sns.diverging_palette(220, 10, as_cmap=True))\n",
    "plt.title('Correlaciones entre las variables independientes')"
   ],
   "execution_count": 25,
   "outputs": []
  },
  {
   "cell_type": "markdown",
   "id": "2b3b59d8-9869-4c84-9971-159b7d31ad83",
   "metadata": {},
   "source": [
    "## Modelo"
   ]
  },
  {
   "cell_type": "code",
   "id": "8f190138-00b9-440a-9542-632800d119e1",
   "metadata": {
    "ExecuteTime": {
     "end_time": "2024-04-19T19:58:49.679799Z",
     "start_time": "2024-04-19T19:58:49.336516Z"
    }
   },
   "source": [
    "X_train, X_test, Y_train, Y_test = train_test_split(students_df.drop(['Calificacion_Examen'], axis='columns'),\n",
    "                                                    students_df['Calificacion_Examen'], test_size=0.25,\n",
    "                                                    random_state=123)\n",
    "\n",
    "# Añadir constante al DataFrame de variables independientes (intercepto)\n",
    "X_train = sm.add_constant(X_train)\n",
    "X_test = sm.add_constant(X_test)\n",
    "# Crear y ajustar el modelo de regresión lineal múltiple utilizando statsmodels\n",
    "model = sm.OLS(Y_train, X_train).fit()\n",
    "\n",
    "display(model.summary())\n",
    "\n",
    "Y_pred = model.predict(X_test)\n",
    "display(Y_pred)\n",
    "\n",
    "coef_correlacion = np.corrcoef(Y_test, Y_pred)[0, 1]\n",
    "\n",
    "print(f\"Coeficiente de correlación (r): {coef_correlacion:.3f}\")\n",
    "\n",
    "mse = mean_squared_error(Y_test, Y_pred)\n",
    "\n",
    "print(f\"Error Cuadrático Medio (MSE): {mse:.3f}\")\n",
    "\n",
    "residuals = Y_pred - Y_test\n",
    "\n",
    "sns.scatterplot(x=Y_pred, y=residuals)\n",
    "plt.xlabel('Predicción de calificación')\n",
    "plt.ylabel('Residuales')\n",
    "plt.show()\n",
    "sns.histplot(residuals)\n",
    "plt.xlabel('Residuales')\n"
   ],
   "execution_count": 26,
   "outputs": []
  },
  {
   "metadata": {
    "ExecuteTime": {
     "end_time": "2024-04-19T19:58:49.682676Z",
     "start_time": "2024-04-19T19:58:49.680356Z"
    }
   },
   "cell_type": "code",
   "source": "mse",
   "id": "1b4c7be66d5223cf",
   "execution_count": 27,
   "outputs": []
  },
  {
   "metadata": {},
   "cell_type": "markdown",
   "source": "# Modelo 2",
   "id": "f203e4bff7f553d9"
  },
  {
   "cell_type": "code",
   "id": "c0bf3d2f72651a39",
   "metadata": {
    "ExecuteTime": {
     "end_time": "2024-04-19T19:58:54.303584Z",
     "start_time": "2024-04-19T19:58:49.683217Z"
    }
   },
   "source": [
    "students_adjusted_df = students_df.drop('Calificacion_Examen', axis='columns')\n",
    "poly = PolynomialFeatures(2, interaction_only=False)\n",
    "output_nparray = poly.fit_transform(students_adjusted_df)\n",
    "target_feature_names = ['x'.join(['{}^{}'.format(pair[0], pair[1]) for pair in tuple if pair[1] != 0]) for tuple in\n",
    "                        [zip(students_adjusted_df.columns, p) for p in poly.powers_]]\n",
    "students_adjusted_df = pd.DataFrame(output_nparray, columns=target_feature_names)\n",
    "students_adjusted_df = students_adjusted_df.assign(Calificacion_Examen=students_df['Calificacion_Examen'])\n",
    "\n",
    "students_adjusted_df['Horas_Estudio^1xHoras_Suenio^1'] = np.sqrt(\n",
    "    students_adjusted_df['Horas_Estudio^1xHoras_Suenio^1'])\n",
    "\n",
    "students_adjusted_df['Horas_Estudio^1xTiempo_Estudio_Previo^1'] = np.sqrt(\n",
    "    students_adjusted_df['Horas_Estudio^1xTiempo_Estudio_Previo^1'])\n",
    "\n",
    "students_adjusted_df['Horas_Estudio^1xTiempo_Ocio^1'] = np.sqrt(\n",
    "    students_adjusted_df['Horas_Estudio^1xTiempo_Ocio^1'])\n",
    "\n",
    "students_adjusted_df['Horas_Estudio^1xParticipacion_Extraclases^1'] = np.sqrt(\n",
    "    students_adjusted_df['Horas_Estudio^1xParticipacion_Extraclases^1'])\n",
    "\n",
    "students_adjusted_df['Horas_Estudio^1xIndice_Concentracion^1'] = np.sqrt(\n",
    "    students_adjusted_df['Horas_Estudio^1xIndice_Concentracion^1'])\n",
    "\n",
    "students_adjusted_df['Horas_Suenio^1xParticipacion_Extraclases^1'] = np.sqrt(\n",
    "    students_adjusted_df['Horas_Suenio^1xParticipacion_Extraclases^1'])\n",
    "\n",
    "students_adjusted_df['Horas_Suenio^1xTiempo_Estudio_Previo^1'] = np.sqrt(\n",
    "    students_adjusted_df['Horas_Suenio^1xTiempo_Estudio_Previo^1'])\n",
    "\n",
    "students_adjusted_df['Horas_Suenio^1xIndice_Concentracion^1'] = np.sqrt(\n",
    "    students_adjusted_df['Horas_Suenio^1xIndice_Concentracion^1'])\n",
    "\n",
    "students_adjusted_df['Horas_Suenio^1xTiempo_Ocio^1'] = np.sqrt(\n",
    "    students_adjusted_df['Horas_Suenio^1xTiempo_Ocio^1'])\n",
    "\n",
    "students_adjusted_df['Asistencia_Clases^1xParticipacion_Extraclases^1'] = np.sqrt(\n",
    "    students_adjusted_df['Asistencia_Clases^1xParticipacion_Extraclases^1'])\n",
    "\n",
    "students_adjusted_df['Asistencia_Clases^1xTiempo_Ocio^1'] = np.sqrt(\n",
    "    students_adjusted_df['Asistencia_Clases^1xTiempo_Ocio^1'])\n",
    "\n",
    "students_adjusted_df['Participacion_Extraclases^1xTiempo_Estudio_Previo^1'] = np.sqrt(\n",
    "    students_adjusted_df['Participacion_Extraclases^1xTiempo_Estudio_Previo^1'])\n",
    "\n",
    "students_adjusted_df['Participacion_Extraclases^1xIndice_Concentracion^1'] = np.sqrt(\n",
    "    students_adjusted_df['Participacion_Extraclases^1xIndice_Concentracion^1'])\n",
    "\n",
    "students_adjusted_df['Participacion_Extraclases^1xTiempo_Ocio^1'] = np.sqrt(\n",
    "    students_adjusted_df['Participacion_Extraclases^1xTiempo_Ocio^1'])\n",
    "\n",
    "students_adjusted_df['Tiempo_Estudio_Previo^1xIndice_Concentracion^1'] = np.sqrt(\n",
    "    students_adjusted_df['Tiempo_Estudio_Previo^1xIndice_Concentracion^1'])\n",
    "\n",
    "students_adjusted_df['Tiempo_Estudio_Previo^1xTiempo_Ocio^1'] = np.sqrt(\n",
    "    students_adjusted_df['Tiempo_Estudio_Previo^1xTiempo_Ocio^1'])\n",
    "\n",
    "students_adjusted_df['Indice_Concentracion^1xTiempo_Ocio^1'] = np.sqrt(\n",
    "    students_adjusted_df['Indice_Concentracion^1xTiempo_Ocio^1'])\n",
    "\n",
    "#\n",
    "g = sns.FacetGrid(students_adjusted_df.drop(['', 'Calificacion_Examen'], axis='columns').melt(), col='variable',\n",
    "                  col_wrap=8, sharey=False, sharex=False)\n",
    "g.map(sns.histplot, 'value', kde=True)\n"
   ],
   "execution_count": 28,
   "outputs": []
  },
  {
   "cell_type": "code",
   "id": "e432b350548e530d",
   "metadata": {
    "ExecuteTime": {
     "end_time": "2024-04-19T19:58:54.507528Z",
     "start_time": "2024-04-19T19:58:54.304199Z"
    }
   },
   "source": [
    "irrelevant_columns = [\n",
    "    'Calificacion_Examen',\n",
    "    'Horas_Estudio^1xIndice_Concentracion^1',\n",
    "    #'Horas_Estudio^1xParticipacion_Extraclases^1',\n",
    "    'Horas_Estudio^1xAsistencia_Clases^1',\n",
    "    'Horas_Estudio^1xTiempo_Estudio_Previo^1',\n",
    "    'Horas_Estudio^2',\n",
    "    'Horas_Estudio^1xHoras_Suenio^1',\n",
    "    'Horas_Suenio^1xAsistencia_Clases^1',\n",
    "    'Participacion_Extraclases^1xTiempo_Estudio_Previo^1',\n",
    "    'Tiempo_Estudio_Previo^1xTiempo_Ocio^1',\n",
    "    'Participacion_Extraclases^1xTiempo_Ocio^1',\n",
    "    '',\n",
    "    'Asistencia_Clases^1xParticipacion_Extraclases^1',\n",
    "    'Indice_Concentracion^1xTiempo_Ocio^1',\n",
    "    'Tiempo_Ocio^2',\n",
    "    'Horas_Estudio^1xTiempo_Ocio^1',\n",
    "    'Horas_Suenio^1xTiempo_Ocio^1',\n",
    "    'Participacion_Extraclases^1xIndice_Concentracion^1',\n",
    "    'Horas_Suenio^1',\n",
    "    'Asistencia_Clases^1xTiempo_Estudio_Previo^1',\n",
    "    'Tiempo_Estudio_Previo^1xIndice_Concentracion^1',\n",
    "    'Horas_Suenio^1xParticipacion_Extraclases^1',\n",
    "    'Asistencia_Clases^1xIndice_Concentracion^1',\n",
    "    'Horas_Suenio^1xIndice_Concentracion^1',\n",
    "    'Horas_Suenio^1xTiempo_Estudio_Previo^1',\n",
    "    'Indice_Concentracion^1',\n",
    "    'Indice_Concentracion^2',\n",
    "    'Horas_Suenio^2',\n",
    "    'Participacion_Extraclases^1',\n",
    "    # 'Asistencia_Clases^1xTiempo_Ocio^1',\n",
    "    'Asistencia_Clases^1',\n",
    "    'Tiempo_Estudio_Previo^2',\n",
    "]\n",
    "\n",
    "X_train2, X_test2, Y_train2, Y_test2 = train_test_split(\n",
    "    students_adjusted_df.drop(irrelevant_columns, axis='columns'),\n",
    "    students_adjusted_df['Calificacion_Examen'], test_size=0.25,\n",
    "    random_state=123)\n",
    "\n",
    "scaler = StandardScaler().fit(X_train2)\n",
    "\n",
    "X_train2 = pd.DataFrame(scaler.transform(X_train2), columns=X_train2.columns, index=X_train2.index)\n",
    "X_test2 = pd.DataFrame(scaler.transform(X_test2), columns=X_train2.columns, index=X_test2.index)\n",
    "\n",
    "# Añadir constante al DataFrame de variables independientes (intercepto)\n",
    "X_train2 = sm.add_constant(X_train2)\n",
    "X_test2 = sm.add_constant(X_test2)\n",
    "\n",
    "# Crear y ajustar el modelo de regresión lineal múltiple utilizando statsmodels\n",
    "model = sm.OLS(Y_train2, X_train2).fit()\n",
    "\n",
    "display(model.summary())\n",
    "\n",
    "Y_pred = model.predict(X_test2)\n",
    "display(Y_pred)\n",
    "\n",
    "coef_correlacion = np.corrcoef(Y_test, Y_pred)[0, 1]\n",
    "\n",
    "print(f\"Coeficiente de correlación (r): {coef_correlacion:.3f}\")\n",
    "\n",
    "mse = mean_squared_error(Y_test, Y_pred)\n",
    "\n",
    "print(f\"Error Cuadrático Medio (MSE): {mse:.3f}\")\n",
    "\n",
    "residuals = Y_pred - Y_test\n",
    "\n",
    "sns.scatterplot(x=Y_pred, y=residuals)\n",
    "plt.xlabel('Predicción de calificación')\n",
    "plt.ylabel('Residuales')\n",
    "plt.show()\n",
    "sns.histplot(residuals)\n",
    "plt.xlabel('Residuales')"
   ],
   "execution_count": 29,
   "outputs": []
  },
  {
   "metadata": {
    "ExecuteTime": {
     "end_time": "2024-04-19T19:58:54.510673Z",
     "start_time": "2024-04-19T19:58:54.508158Z"
    }
   },
   "cell_type": "code",
   "source": "mse",
   "id": "47b192352a809aa",
   "execution_count": 30,
   "outputs": []
  }
 ],
 "metadata": {
  "kernelspec": {
   "display_name": "Python 3 (ipykernel)",
   "language": "python",
   "name": "python3"
  },
  "language_info": {
   "codemirror_mode": {
    "name": "ipython",
    "version": 3
   },
   "file_extension": ".py",
   "mimetype": "text/x-python",
   "name": "python",
   "nbconvert_exporter": "python",
   "pygments_lexer": "ipython3",
   "version": "3.11.8"
  }
 },
 "nbformat": 4,
 "nbformat_minor": 5
}
