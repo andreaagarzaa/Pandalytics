{
 "cells": [
  {
   "cell_type": "markdown",
   "id": "1a3cb49c-fbfc-45bd-9d42-cbbf4f549445",
   "metadata": {},
   "source": [
    "# Equipo 1: Pandalytics\n",
    "* **A00832444** | Andrea Garza  \n",
    "* **A01197991** | Hiram Maximiliano Muñoz Ramírez  \n",
    "* **A00517124** | Erick Orlando Hernández Vallejo  \n",
    "* **A01197655** | Raúl Isaí Murillo Alemán   \n",
    "* **A01235692** | David Gerardo Martínez Hidrogo   "
   ]
  },
  {
   "cell_type": "markdown",
   "id": "21935026-1862-45fa-9e85-1bc80afcf9c8",
   "metadata": {},
   "source": [
    "## Posibles variables a revisar\n",
    "* Tipo de Pintura: Diferentes pinturas pueden tener distintos rendimientos debido a su composición.\n",
    "* Condiciones de Aplicación: Temperatura, humedad, y presión durante la aplicación pueden afectar el rendimiento.\n",
    "* Método de Aplicación: Rodillo, brocha, o spray pueden resultar en diferentes eficiencias.\n",
    "* Superficie de Aplicación: La textura, material, y preparación de la superficie pueden influir en cuánta pintura se necesita.\n",
    "* Espesor de Capa: El espesor deseado o aplicado de la pintura puede variar el rendimiento.\n",
    "* Experiencia del Aplicador: La habilidad o técnica del pintor puede afectar la cantidad de pintura utilizada.\n",
    "* Rendimiento Estándar y Real Previos: Datos históricos pueden ayudar a identificar tendencias o patrones en el rendimiento de la pintura."
   ]
  },
  {
   "cell_type": "code",
   "execution_count": 1,
   "id": "7a224f1c-2ae7-4751-b587-8e2a968cdee6",
   "metadata": {},
   "source": [
    "import pandas as pd\n",
    "import pyarrow.feather as feather\n",
    "import uuid"
   ],
   "outputs": []
  },
  {
   "cell_type": "markdown",
   "id": "cc163c84-26a5-42d2-925c-9c869c6a9335",
   "metadata": {},
   "source": [
    "Primero se cargarón dos de los archivos de excel: los datos sobre las pinturas y revestidos de julio 20 a agosto 23, y el análisis de consumo de pintura."
   ]
  },
  {
   "cell_type": "code",
   "execution_count": 2,
   "id": "98b86e6791d72b87",
   "metadata": {
    "collapsed": false
   },
   "source": [
    "#coating_df = pd.read_excel('data/pinturas_revestidos_jul20_ago23.xlsx', sheet_name='Pintado 1 UNI Junio', header=1)\n",
    "coating_df = pd.read_excel('data/pinturas_revestidos_jul20_ago23.xlsx', sheet_name='Pintado 1 UNI Ago')\n",
    "\n",
    "paint_analysis_df = pd.read_excel('data/analisis_consumo_pintura.xlsx', sheet_name='Base de datos por pintura')"
   ],
   "outputs": []
  },
  {
   "cell_type": "markdown",
   "id": "2b381e2e-c755-4d7c-93cb-23fd46bbb93f",
   "metadata": {},
   "source": [
    "Los datos se guardaron en archivos formato Feather, para permitir una\n",
    "carga de datos mas rápida.\n",
    "Se necesitó hacer una asignación manual de tipos en dos columnas, ya que el algoritmo de Feather no logró intuir los tipos de estas columnas."
   ]
  },
  {
   "cell_type": "code",
   "execution_count": 3,
   "id": "6d51c428-ee73-47fa-af1b-24390cc58f73",
   "metadata": {},
   "source": [
    "coating_df['Nº doc.'] = coating_df['Nº doc.'].astype(str)\n",
    "coating_df['Asignación'] = coating_df['Asignación'].astype(str)\n",
    "feather.write_feather(coating_df, 'data/pinturas_revestidos_jul20_ago23.feather')\n",
    "feather.write_feather(paint_analysis_df, 'data/analisis_consumo_pintura.feather')"
   ],
   "outputs": []
  },
  {
   "cell_type": "code",
   "execution_count": 4,
   "id": "5704e7ca-cb67-4fa5-be81-d84abbe4ad5b",
   "metadata": {},
   "source": [
    "coating_df = pd.read_feather('data/pinturas_revestidos_jul20_ago23.feather')\n",
    "paint_analysis_df = pd.read_feather('data/analisis_consumo_pintura.feather')"
   ],
   "outputs": []
  },
  {
   "cell_type": "markdown",
   "id": "0dad653c-5657-4f0c-9158-7c9db376277e",
   "metadata": {},
   "source": [
    "## Análisis de datos de pinturas y revestidos\n",
    "Primero se empezó por obter la estructura general del conjunto de datos.\n",
    "\n",
    "El conjunto de datos tiene un total de 211,714 filas. Tiene 43 columnas diferentes. En total, el dataframe ocupa alrededor de 70 MB de memoria.\n",
    "\n",
    "A continuación se muestra la información anteriormente mencionada, así como los tipos de cada columna y los valores no nulos de cada columna."
   ]
  },
  {
   "cell_type": "markdown",
   "id": "e7992c13-fc89-43f7-bb77-538cca7efc47",
   "metadata": {},
   "source": [
    "Para este conjunto de datos consideramos que N°doc.ref. sería mejor manejado como string y no como int ya que es un identificador, además Fecha., Fe.contab. y Registro serían mejor manejados como tipo datetime.\n",
    "\n",
    "Existen también múltiples columnas que están siendo manejadas por defecto como tipo float ya que no cuenten con registros.\n",
    "\n",
    "Se encontro que el nombre de columna \"Año\" esta repetido "
   ]
  },
  {
   "cell_type": "code",
   "execution_count": 5,
   "id": "8f656f6f-b3df-43a0-8722-cf3e4cabb920",
   "metadata": {},
   "source": [
    "coating_df.info()"
   ],
   "outputs": []
  },
  {
   "cell_type": "code",
   "execution_count": 6,
   "id": "44336430-12fb-4893-9752-6d73b251d548",
   "metadata": {},
   "source": [
    "with pd.option_context('display.max_rows', None,\n",
    "                       'display.max_columns', None,\n",
    "                       'display.precision', 3,\n",
    "                       ):\n",
    "    display(coating_df.isna().sum() / coating_df.shape[0])"
   ],
   "outputs": []
  },
  {
   "cell_type": "code",
   "execution_count": 7,
   "id": "26733b99-7ec7-46fd-b0de-94bb00d54f9f",
   "metadata": {},
   "source": [
    "coating_empty_cols = [\n",
    "    'OrdPartner',\n",
    "    'Doc.compr.',\n",
    "    'Pos.',\n",
    "    'Txt.pedido',\n",
    "    'Acreedor',\n",
    "    'Nom.1',\n",
    "]"
   ],
   "outputs": []
  },
  {
   "cell_type": "markdown",
   "id": "4c07d379-491e-4c2a-a2a7-fdebf42f08a9",
   "metadata": {},
   "source": [
    "Se calculó un resumen estadístico descriptivo de las columnas numéricas, excluyendo las que no cuentan con registros:"
   ]
  },
  {
   "cell_type": "code",
   "execution_count": 8,
   "id": "8985fbd4-6ed1-4de0-bb3e-2f098d3fd2c2",
   "metadata": {},
   "source": [
    "coating_analysis_cols = [\n",
    "    'Ce.coste',\n",
    "    'Per',\n",
    "    ' Año', \n",
    "    '  Valor/Mon.tr.',\n",
    "    ' Valor/Mon.obj.', \n",
    "    '    Valor var.', \n",
    "    'Ctd.total reg.',\n",
    "    'Precio'\n",
    "]\n",
    "\n",
    "coating_df[coating_analysis_cols].describe()"
   ],
   "outputs": []
  },
  {
   "cell_type": "markdown",
   "id": "06ee3a79-d7ad-4278-a2b8-a10c0657ec82",
   "metadata": {},
   "source": [
    "## Análisis de datos del consumo de pintura\n",
    "\n",
    "Primero se empezó por obtener la estructura general del conjunto de datos.\n",
    "\n",
    "El conjunto de datos tiene un total de 566 filas. Tiene 15 columnas diferentes. En total, el dataframe ocupa alrededor de 67 KB de memoria.\n",
    "\n",
    "A continuación se muestra la información anteriormente mencionada, así como los tipos de cada columna y los valores no nulos de cada columna.\n",
    "\n",
    "Para este conjunto de datos consideramos que Linea, Mes 2, Mes num y Mes serían mejor manejados como datos categoricos.\n",
    "\n",
    "Para el resto de columnas consideramos que su tipo de dato es adecuado, incluyendo las que no cuentan con registros."
   ]
  },
  {
   "cell_type": "code",
   "execution_count": 9,
   "id": "e25c6b0ca57bd048",
   "metadata": {
    "collapsed": false
   },
   "source": [
    "paint_analysis_df.info()"
   ],
   "outputs": []
  },
  {
   "cell_type": "code",
   "execution_count": 10,
   "id": "a5d7a2ed-06ef-41db-9b6b-8c4f19d0457b",
   "metadata": {
    "ExecuteTime": {
     "start_time": "2024-03-03T04:30:33.843208500Z"
    }
   },
   "source": [
    "with pd.option_context('display.max_rows', None,\n",
    "                       'display.max_columns', None,\n",
    "                       'display.precision', 3,\n",
    "                       ):\n",
    "    display(paint_analysis_df.isna().sum() / paint_analysis_df.shape[0])"
   ],
   "outputs": []
  },
  {
   "cell_type": "code",
   "execution_count": 11,
   "id": "4f1552fb-d5a4-4e09-9ef5-1b701c750208",
   "metadata": {},
   "source": [
    "paint_analysis_empty_cols = ['Error de Consumo', 'Diferencia porcentual de rendimiento']"
   ],
   "outputs": []
  },
  {
   "cell_type": "markdown",
   "id": "982fb072-bb03-4d23-af75-e9d398b66064",
   "metadata": {},
   "source": [
    "Se calculó un resumen estadístico descriptivo de las columnas numéricas, excluyendo las que no cuentan con registros:"
   ]
  },
  {
   "cell_type": "code",
   "execution_count": 12,
   "id": "1f912b58-7f01-4666-91ae-3c1d9eb4e49c",
   "metadata": {},
   "source": [
    "paint_analysis_cols = [\n",
    "    'Real', \n",
    "    'Teo', \n",
    "    'Dif', \n",
    "    'Magnitud', \n",
    "    'Rendimeinto Std', \n",
    "    'Metros cuadrados reales', \n",
    "    'Rendimeinto Real', \n",
    "    'Diferencia de Rendimiento', \n",
    "]\n",
    "\n",
    "paint_analysis_df[paint_analysis_cols].describe()"
   ],
   "outputs": []
  },
  {
   "cell_type": "markdown",
   "id": "15443afe-9681-4cfb-8e06-9fd2d9f39a01",
   "metadata": {},
   "source": [
    "Finalmente, se elaboro un conteo de valores unicos en cada una de las demas columnas.\n",
    "\n",
    "Linea, Mes 2, Mes y num son probablemente categorías.\n",
    "Los demas son valores de string únicos."
   ]
  },
  {
   "cell_type": "code",
   "execution_count": 13,
   "id": "b2541658-a4ad-4564-a3eb-381fd80aac1b",
   "metadata": {},
   "source": [
    "paint_analysis_df[filter(lambda x: x not in paint_analysis_cols and x not in paint_analysis_empty_cols, paint_analysis_df.columns)].nunique()"
   ],
   "outputs": []
  },
  {
   "cell_type": "markdown",
   "id": "8240cbe0-6a14-4bf4-be49-15e988b5b4cf",
   "metadata": {},
   "source": [
    "Categorías de las columnas mencionadas anteriormente:"
   ]
  },
  {
   "cell_type": "code",
   "execution_count": 14,
   "id": "ba93a888-2db2-46aa-b766-453871e72b59",
   "metadata": {},
   "source": [
    "paint_analysis_df[['Linea ', 'Mes 2', 'Mes num','Mes']].apply(pd.unique)"
   ],
   "outputs": []
  },
  {
   "cell_type": "markdown",
   "id": "699dd570-a6a5-48ba-b56a-87d648a43b49",
   "metadata": {},
   "source": [
    "## Resumenes de líneas de producción y defectos\n",
    "Tambíen cargamos todos los dataframes de los registros de líneas de producción:"
   ]
  },
  {
   "cell_type": "code",
   "execution_count": 15,
   "id": "d9de4271-1007-45c0-9335-339a75f6c7ea",
   "metadata": {},
   "source": [
    "april_production_1_df = pd.read_excel('data/paint_production_summaries/april_1.xlsx', sheet_name='ResumenProduccion')\n",
    "april_production_2_df = pd.read_excel('data/paint_production_summaries/april_2.xlsx', sheet_name='ResumenProduccion')\n",
    "may_production_1_df = pd.read_excel('data/paint_production_summaries/may_1.xlsx', sheet_name='ResumenProduccion')\n",
    "may_production_2_df = pd.read_excel('data/paint_production_summaries/may_2.xlsx', sheet_name='ResumenProduccion')\n",
    "june_production_1_df = pd.read_excel('data/paint_production_summaries/june_1.xlsx', sheet_name='ResumenProduccion')\n",
    "june_production_2_df = pd.read_excel('data/paint_production_summaries/june_2.xlsx', sheet_name='ResumenProduccion')\n",
    "july_production_1_df = pd.read_excel('data/paint_production_summaries/july_1.xlsx', sheet_name='ResumenProduccion')\n",
    "july_production_2_df = pd.read_excel('data/paint_production_summaries/july_2.xlsx', sheet_name='ResumenProduccion')\n",
    "august_production_1_df = pd.read_excel('data/paint_production_summaries/august_1.xlsx', sheet_name='ResumenProduccion')\n",
    "august_production_2_df = pd.read_excel('data/paint_production_summaries/august_2.xlsx', sheet_name='ResumenProduccion')\n",
    "\n",
    "\n",
    "#april_production_1_df[''] = april_production_1_df[''].astype(str)\n",
    "# feather.write_feather(april_production_1_df, 'data/april_1.feather')\n",
    "# feather.write_feather(april_production_2_df, 'data/april_2.feather')\n",
    "# feather.write_feather(may_production_1_df, 'data/may_1.feather')\n",
    "# feather.write_feather(may_production_2_df, 'data/may_2.feather')\n",
    "# feather.write_feather(june_production_1_df, 'data/june_1.feather')\n",
    "# feather.write_feather(june_production_2_df, 'data/june_2.feather')\n",
    "# feather.write_feather(july_production_1_df, 'data/july_1.feather')\n",
    "# feather.write_feather(july_production_2_df, 'data/july_2.feather')\n",
    "# feather.write_feather(august_production_1_df, 'data/august_1.feather')\n",
    "# feather.write_feather(august_production_2_df, 'data/august_2.feather')"
   ],
   "outputs": []
  },
  {
   "cell_type": "markdown",
   "id": "774d0e68-f049-4a88-b430-a645fa29e708",
   "metadata": {},
   "source": [
    "Se definieron funciones para procesar y separar los datos de cada línea de producción de los defectos en cada una."
   ]
  },
  {
   "cell_type": "code",
   "execution_count": 16,
   "id": "445e3a30-5684-4e46-a41a-ada3c559ea71",
   "metadata": {},
   "source": [
    "defects_cols = [\n",
    "        'Codigo defecto',\n",
    "        'Defecto',\n",
    "        'Ubicacion',\n",
    "        'Es Contencion',\n",
    "        'Es Prevencion',\n",
    "        'Es Mejora',\n",
    "        'Intensidad',\n",
    "        'Cara',\n",
    "        'Lado',\n",
    "        'Linea Origen',\n",
    "        'Dictamen',\n",
    "        'Resolución',\n",
    "        'Calidad Sugerida',\n",
    "        'Siguiente Accion',\n",
    "        'Siguiente Proceso',\n",
    "        'Mts Ini',\n",
    "        'Mts Fin',\n",
    "        'Frecuencia',\n",
    "        'Causa',\n",
    "        'Accion Preventiva',\n",
    "        'Accion Correctiva',\n",
    "        'Observaciones',\n",
    "        'Fecha Registro',\n",
    "        'Registro Automatico',\n",
    "        'Código Equipo',\n",
    "]\n",
    "\n",
    "def reindex_production_df(production_df: pd.DataFrame):\n",
    "    df = production_df.assign(production_id=production_df.apply(lambda x: uuid.uuid4(), axis=1))\n",
    "    df.set_index('production_id', inplace=True)\n",
    "    return df\n",
    "\n",
    "def extract_defects_df(production_df: pd.DataFrame):\n",
    "    defects_df_1 = production_df[map(lambda x: x + ' (1)', defects_cols)].dropna(thresh=1)\n",
    "    defects_df_1.columns = defects_cols\n",
    "    defects_df_2 = production_df[map(lambda x: x + ' (2)', defects_cols)].dropna(thresh=1)\n",
    "    defects_df_2.columns = defects_cols\n",
    "    defects_df_3 = production_df[map(lambda x: x + ' (3)', defects_cols)].dropna(thresh=1)\n",
    "    defects_df_3.columns = defects_cols\n",
    "    defects_df_4 = production_df[map(lambda x: x + ' (4)', defects_cols)].dropna(thresh=1)\n",
    "    defects_df_4.columns = defects_cols\n",
    "    defects_df_5 = production_df[map(lambda x: x + ' (5)', defects_cols)].dropna(thresh=1)\n",
    "    defects_df_5.columns = defects_cols\n",
    "    \n",
    "    defects_df = pd.concat([\n",
    "        defects_df_1.reset_index(names='production_id'), \n",
    "        defects_df_2.reset_index(names='production_id'), \n",
    "        defects_df_3.reset_index(names='production_id'),\n",
    "        defects_df_4.reset_index(names='production_id'),\n",
    "        defects_df_5.reset_index(names='production_id'),\n",
    "    ], ignore_index=True)\n",
    "\n",
    "    defects_df['defect_id'] = defects_df.apply(lambda x: uuid.uuid4(), axis=1)\n",
    "    defects_df.set_index('defect_id', inplace=True)\n",
    "\n",
    "    return defects_df\n",
    "\n",
    "def remove_defects_cols(production_id: pd.DataFrame):\n",
    "    columns_to_remove = list(map(lambda x: x + ' (1)', defects_cols)) + list(map(lambda x: x + ' (2)', defects_cols)) + list(map(lambda x: x + ' (3)', defects_cols)) + list(map(lambda x: x + ' (4)', defects_cols)) + list(map(lambda x: x + ' (5)', defects_cols))\n",
    "    return production_id.drop(columns=columns_to_remove)\n",
    "    \n",
    "\n",
    "april_production_df = pd.concat([\n",
    "    reindex_production_df(april_production_1_df),\n",
    "    reindex_production_df(april_production_2_df),\n",
    "])\n",
    "april_defects_df = extract_defects_df(april_production_df)\n",
    "april_production_df = remove_defects_cols(april_production_df)\n",
    "\n",
    "may_production_df = pd.concat([\n",
    "    reindex_production_df(may_production_1_df),\n",
    "    reindex_production_df(may_production_2_df),\n",
    "])\n",
    "may_defects_df = extract_defects_df(may_production_df)\n",
    "may_production_df = remove_defects_cols(may_production_df)\n",
    "\n",
    "june_production_df = pd.concat([\n",
    "    reindex_production_df(june_production_1_df),\n",
    "    reindex_production_df(june_production_2_df),\n",
    "])\n",
    "june_defects_df = extract_defects_df(june_production_df)\n",
    "june_production_df = remove_defects_cols(june_production_df)\n",
    "\n",
    "july_production_df = pd.concat([\n",
    "    reindex_production_df(july_production_1_df),\n",
    "    reindex_production_df(july_production_2_df),\n",
    "])\n",
    "july_defects_df = extract_defects_df(july_production_df)\n",
    "july_production_df = remove_defects_cols(july_production_df)\n",
    "\n",
    "august_production_df = pd.concat([\n",
    "    reindex_production_df(august_production_1_df),\n",
    "    reindex_production_df(august_production_2_df),\n",
    "])\n",
    "august_defects_df = extract_defects_df(august_production_df)\n",
    "august_production_df = remove_defects_cols(august_production_df)\n",
    "\n",
    "production_df = pd.concat([\n",
    "    april_production_df,\n",
    "    may_production_df,\n",
    "    june_production_df,\n",
    "    july_production_df,\n",
    "    august_production_df,\n",
    "])\n",
    "defects_df = pd.concat([\n",
    "    april_defects_df,\n",
    "    may_defects_df,\n",
    "    june_defects_df,\n",
    "    july_defects_df,\n",
    "    august_defects_df,\n",
    "])"
   ],
   "outputs": []
  },
  {
   "cell_type": "code",
   "execution_count": 17,
   "id": "79bf7161-01a7-4539-ae87-e2b6ec52c624",
   "metadata": {},
   "source": [
    "production_df.index = production_df.index.astype(str)\n",
    "defects_df.index = defects_df.index.astype(str)\n",
    "defects_df['production_id'] = defects_df['production_id'].astype(str)\n",
    "feather.write_feather(production_df, 'data/production.feather')\n",
    "feather.write_feather(defects_df, 'data/defects.feather')"
   ],
   "outputs": []
  },
  {
   "cell_type": "code",
   "execution_count": 18,
   "id": "1f63a696-c01a-46dd-9264-ce12019d2aae",
   "metadata": {},
   "source": [
    "production_df = pd.read_feather('data/production.feather')\n",
    "defects_df = pd.read_feather('data/defects.feather')"
   ],
   "outputs": []
  },
  {
   "cell_type": "markdown",
   "id": "63164467-ed98-4d79-a54e-8ae60189c7b0",
   "metadata": {},
   "source": [
    "### Análisis de datos de producción"
   ]
  },
  {
   "cell_type": "markdown",
   "id": "80b9d4ff-db08-440e-bdf9-17609cccc713",
   "metadata": {},
   "source": [
    "Primero obtenemos obtenemos la estructura general de la base de datos\n",
    "\n",
    "El conjunto de datos tiene un total de 17650 filas. Tiene 130 columnas diferentes. En total, el dataframe ocupa alrededor de 18 MB de memoria.\n",
    "\n",
    "A continuación se muestra la información anteriormente mencionada, así como los tipos de cada columna y los valores no nulos de cada columna."
   ]
  },
  {
   "cell_type": "code",
   "execution_count": 19,
   "id": "fa92877b-a40b-4334-a76b-ab76f2904a0b",
   "metadata": {},
   "source": [
    "production_df.info()"
   ],
   "outputs": []
  },
  {
   "cell_type": "code",
   "execution_count": 20,
   "id": "16d41073-46d3-48c3-bcd7-0639eb801eec",
   "metadata": {},
   "source": [
    "with pd.option_context('display.max_rows', None,\n",
    "                       'display.max_columns', None,\n",
    "                       ):\n",
    "   display(production_df.dtypes)"
   ],
   "outputs": []
  },
  {
   "cell_type": "code",
   "execution_count": 21,
   "id": "f82e9c02-7f4f-4b43-9445-069f9a5585b7",
   "metadata": {},
   "source": [
    "production_empty_cols = [\n",
    "    'Balance Forzado',\n",
    "    'Usuario Balance Peso',\n",
    "    'Usuario Registro Peso'\n",
    "]"
   ],
   "outputs": []
  },
  {
   "cell_type": "markdown",
   "id": "67a6af1b-ef1f-4436-9229-ae32c27220df",
   "metadata": {},
   "source": [
    "Se calculó un resumen estadístico descriptivo de las columnas numéricas, excluyendo las que no cuentan con registros:"
   ]
  },
  {
   "cell_type": "code",
   "execution_count": 22,
   "id": "62b23978-9451-423d-9977-f12a1badfa7d",
   "metadata": {},
   "source": [
    "production_analysis_cols = [\n",
    "    'Fecha Inicio', 'Fecha Fin', 'Turno', 'Necesidad', 'Ancho 1', 'Ancho 2',\n",
    "    'Ancho 3', 'Ancho', 'Espesor 1', 'Espesor 2', 'Espesor 3', 'Espesor',\n",
    "    'Peso Entrada', 'Peso', 'Largo', 'Largo PLC', 'Peso Mínimo',\n",
    "    'Peso Máximo', 'Calibre', 'Código Primer Inf', 'Código Primer Sup',\n",
    "    'Capa Acabado Inf', 'Capa Acabado LO Inf', 'Capa Acabado LM Inf',\n",
    "    'Capa Acabado Sup', 'Capa Acabado LO Sup', 'Capa Acabado LM Sup',\n",
    "    'Capa Primer Inf', 'Capa Primer LO Inf', 'Capa Primer LM Inf',\n",
    "     'Capa Primer Sup', 'Capa Primer LO Sup', 'Capa Primer LM Sup',\n",
    "     'Capa Clear Inf', 'Capa Clear LO Inf', 'Capa Clear MN Inf',\n",
    "     'Capa Clear Sup', 'CapaClear LO Sup', 'Capa Clear LM Sup', 'Brillo Sup',\n",
    "     'Brillo Inf', 'Grado Brillo Sup', 'Grado Brillo Inf',\n",
    "     'Impacto Pintura Inf', 'Impacto Pintura LO Inf',\n",
    "     'Impacto Pintura LM Inf', 'Impacto Pintura Sup',\n",
    "     'Impacto Pintura LO Sup', 'Impacto Pintura LM Sup',\n",
    "     'Resistencia Solvente Sup', 'Resistencia Solvente Inf',\n",
    "     'Análisis Tono DA Inf', 'Análisis Tono DA Sup', 'Análisis Tono DB Inf',\n",
    "     'Análisis Tono DB Sup', 'Análisis Tono DC Inf', 'Análisis Tono DC Sup',\n",
    "     'Análisis Tono DE Inf', 'Análisis Tono DE Sup', 'Análisis Tono DL Inf',\n",
    "     'Análisis Tono DL Sup', 'Polietileno Metros Aplicados',\n",
    "     'Polietileno Ancho', 'Velocidad Promedio', '% Línea Operando',\n",
    "     '% Primer Sup. Salida', '% Primer Inf. Salida', '% Cromato Inf Salida',\n",
    "     '% Cromato Sup Salida', '% Acabado 1 Inf Salida',\n",
    "     '% Acabado 1 Sup Salida', '% Uso Cabezales', 'Programa',\n",
    "     'Vel. Proceso Promedio', 'Es Reproceso', '% Acabado Inf Salida',\n",
    "     '% Acabado Sup Norte Salida', '% Acabado Sup Sur Salida'\n",
    "     ]\n",
    "with pd.option_context('display.max_rows', None,\n",
    "                       'display.max_columns', None,\n",
    "                       'display.precision', 3,\n",
    "                       ):\n",
    "    display(production_df[production_analysis_cols].describe())"
   ],
   "outputs": []
  },
  {
   "cell_type": "markdown",
   "id": "ef876040-d071-4631-a111-a320e5095dad",
   "metadata": {},
   "source": [
    "Finalmente, se elaboro un conteo de valores unicos en cada una de las demas columnas.\n",
    "\n",
    "Estado, Clase, Norma, Uso General, Empaque, las durezas de pintura, la felxión de la pintura, Cinta de Noche, Hizo Proceso NO STD, Dictamen, Muestrear, Muestreado, Hizo Proceso NO STD son probablemente categorías. Los demas son valores de string únicos."
   ]
  },
  {
   "cell_type": "code",
   "execution_count": 23,
   "id": "7ffcfc31-6ec9-4eab-bbff-6bd2a6e54308",
   "metadata": {},
   "source": [
    "production_df[filter(lambda x: x not in production_analysis_cols and x not in production_empty_cols, production_df.columns)].nunique()"
   ],
   "outputs": []
  },
  {
   "cell_type": "markdown",
   "id": "8a8f8843-4765-47dd-93b3-a9dca45aeb85",
   "metadata": {},
   "source": [
    "### Análisis de defectos"
   ]
  },
  {
   "cell_type": "markdown",
   "id": "dcd10483-e271-4444-8141-30c9f3c1a6ef",
   "metadata": {},
   "source": [
    "Primero obtenemos obtenemos la estructura general de la base de datos\n",
    "\n",
    "El conjunto de datos tiene un total de 17650 filas. Tiene 130 columnas diferentes. En total, el dataframe ocupa alrededor de 18 MB de memoria.\n",
    "\n",
    "A continuación se muestra la información anteriormente mencionada, así como los tipos de cada columna y los valores no nulos de cada columna."
   ]
  },
  {
   "cell_type": "code",
   "execution_count": 24,
   "id": "328472b1-8ec7-44b3-83a7-bb6cd0d9c227",
   "metadata": {},
   "source": [
    "defects_df.info()"
   ],
   "outputs": []
  },
  {
   "cell_type": "code",
   "execution_count": 25,
   "id": "f72a6b88-3c48-47c0-bddf-bdfa7281ff71",
   "metadata": {},
   "source": [
    "defects_empty_cols = [\n",
    "    'Siguiente Accion',\n",
    "    'Siguiente Proceso',\n",
    "    'Mts Ini',\n",
    "    'Mts Fin'\n",
    "]"
   ],
   "outputs": []
  },
  {
   "cell_type": "markdown",
   "id": "ccadd950-0838-427b-b24b-0b31c982f8d7",
   "metadata": {},
   "source": [
    "Se calculó un resumen estadístico descriptivo de las columnas numéricas, excluyendo las que no cuentan con registros:"
   ]
  },
  {
   "cell_type": "code",
   "execution_count": 26,
   "id": "150a2c5e-bb5f-4437-a40d-f207815e4bec",
   "metadata": {},
   "source": [
    "defects_analysis_cols = [\n",
    "    'Codigo defecto', \n",
    "    'Es Contencion', \n",
    "    'Es Prevencion', 'Es Mejora',\n",
    "    'Intensidad', \n",
    "    'Fecha Registro', \n",
    "    'Registro Automatico'\n",
    "]\n",
    "defects_df[defects_analysis_cols].describe()"
   ],
   "outputs": []
  },
  {
   "cell_type": "markdown",
   "id": "943ff125-700c-4237-8a16-e6b516413fdf",
   "metadata": {},
   "source": [
    "Finalmente, se elaboro un conteo de valores unicos en cada una de las demas columnas.\n",
    "\n",
    "Ubicación, Cara, Lado, Dictamen, Resolución, Calidad Sugerida, Frecuencia son probablemente categorías. Los demas son valores de string únicos."
   ]
  },
  {
   "cell_type": "code",
   "execution_count": 27,
   "id": "dcd6d557-0c39-477f-8553-7276d011ff83",
   "metadata": {},
   "source": [
    "defects_df[filter(lambda x: x not in defects_analysis_cols and x not in defects_empty_cols, defects_df.columns)].nunique()"
   ],
   "outputs": []
  },
  {
   "cell_type": "markdown",
   "id": "ada8b486-27fa-4d28-8b1a-154d18d8cb76",
   "metadata": {},
   "source": [
    "## Columnas comunes que permitan enlazar registros"
   ]
  },
  {
   "cell_type": "markdown",
   "id": "637408a9-e6f9-4f81-b0c0-c9ae330ac4f8",
   "metadata": {},
   "source": [
    "La columna Color del dataframe de análisis de pintura podría relacionarse con las columnas de Color Superior y Color Inferior del dataframe de Producción"
   ]
  },
  {
   "cell_type": "code",
   "execution_count": null,
   "id": "12c88cc2-4d0c-4e9c-9c43-a6df731e8cb6",
   "metadata": {},
   "source": [],
   "outputs": []
  }
 ],
 "metadata": {
  "kernelspec": {
   "display_name": "Python 3 (ipykernel)",
   "language": "python",
   "name": "python3"
  },
  "language_info": {
   "codemirror_mode": {
    "name": "ipython",
    "version": 3
   },
   "file_extension": ".py",
   "mimetype": "text/x-python",
   "name": "python",
   "nbconvert_exporter": "python",
   "pygments_lexer": "ipython3",
   "version": "3.12.3"
  }
 },
 "nbformat": 4,
 "nbformat_minor": 5
}
