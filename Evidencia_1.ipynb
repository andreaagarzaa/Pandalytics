{
 "cells": [
  {
   "cell_type": "markdown",
   "id": "a96d9f0c-efcc-4bf0-880c-116d24b498c0",
   "metadata": {},
   "source": [
    "# Evidencia 1. Flujo de trabajo reproducible del proyecto de ciencia de datos\n",
    "Pandalytics - Equipo 1\n",
    "\n",
    "* **A00832444** | Andrea Garza  \n",
    "* **A01197991** | Hiram Maximiliano Muñoz Ramírez  \n",
    "* **A00517124** | Erick Orlando Hernández Vallejo  \n",
    "* **A01197655** | Raúl Isaí Murillo Alemán   \n",
    "* **A01235692** | David Gerardo Martíne Hidrogo "
   ]
  },
  {
   "cell_type": "code",
   "execution_count": 1,
   "id": "4e9af3c5-c66e-463d-904b-453e4b6c6491",
   "metadata": {},
   "source": [
    "import pandas as pd\n",
    "import numpy as np\n",
    "import matplotlib.pyplot as plt\n",
    "import seaborn as sns\n",
    "from sklearn import linear_model\n",
    "\n",
    "%matplotlib inline"
   ],
   "outputs": []
  },
  {
   "cell_type": "code",
   "execution_count": 2,
   "id": "4d37209d-21a7-4f8b-9ee2-59442e578603",
   "metadata": {},
   "source": [
    "df = pd.read_excel('ternium-data/Exp_2_Pintura_Estructura Analisis de consumo y .xlsx', sheet_name='Base de datos por pintura')\n",
    "df"
   ],
   "outputs": []
  },
  {
   "cell_type": "code",
   "execution_count": 3,
   "id": "c499f089-c744-45bd-9145-8af7bef02735",
   "metadata": {},
   "source": [
    "def IQR(df: pd.DataFrame, col_name: str):\n",
    "    column = df[col_name]\n",
    "    Q1 = np.percentile(column, 25)\n",
    "    Q3 = np.percentile(column, 75)\n",
    "    IQR = Q3 - Q1\n",
    "    print('Rango de valores:', Q1 - 1.5*IQR, 'a', Q3 + 1.5*IQR, '\\n')\n",
    "    print('Valores atípicos: ')\n",
    "    sns.boxplot(data=column)\n",
    "    return df[(column < Q1 - 1.5 * IQR) | (column > Q3 + 1.5 * IQR)][col_name]"
   ],
   "outputs": []
  },
  {
   "cell_type": "code",
   "execution_count": 4,
   "id": "d1b0c7a0-1099-4fc3-af98-9552cc473e64",
   "metadata": {},
   "source": [
    "IQR(df, 'Real')"
   ],
   "outputs": []
  },
  {
   "cell_type": "code",
   "execution_count": 5,
   "id": "321a5b0e-cb28-4989-8953-ee34f132b23a",
   "metadata": {},
   "source": [
    "IQR(df, 'Teo')"
   ],
   "outputs": []
  },
  {
   "cell_type": "code",
   "execution_count": 6,
   "id": "6da8450e-04e2-4ca6-aa5c-556f75cf102d",
   "metadata": {},
   "source": [
    "IQR(df, 'Dif')"
   ],
   "outputs": []
  },
  {
   "cell_type": "code",
   "execution_count": 7,
   "id": "dae7b898-391f-4527-a24d-77c97e2ce0c1",
   "metadata": {},
   "source": [
    "IQR(df, 'Magnitud')"
   ],
   "outputs": []
  },
  {
   "cell_type": "code",
   "execution_count": 8,
   "id": "00201381-7d3e-4b7f-9905-1539fcb1c17a",
   "metadata": {},
   "source": [
    "IQR(df, 'Rendimeinto Std')"
   ],
   "outputs": []
  },
  {
   "cell_type": "code",
   "execution_count": 9,
   "id": "f977e050-119d-436e-a487-d6730a838ad7",
   "metadata": {},
   "source": [
    "IQR(df, 'Metros cuadrados reales')"
   ],
   "outputs": []
  },
  {
   "cell_type": "code",
   "execution_count": 10,
   "id": "3578a418-de73-47cc-a720-868c6faba4cb",
   "metadata": {},
   "source": [
    "df_rendimiento_real = IQR(df, 'Rendimeinto Real')\n",
    "df_rendimiento_real"
   ],
   "outputs": []
  },
  {
   "cell_type": "code",
   "execution_count": 11,
   "id": "7624624e-3cf6-4806-bc79-69b5192a0044",
   "metadata": {},
   "source": [
    "IQR(df, 'Diferencia de Rendimiento')"
   ],
   "outputs": []
  },
  {
   "cell_type": "markdown",
   "id": "f9229951-0c79-4dcd-b840-e926f385c792",
   "metadata": {},
   "source": [
    "### Imputación utilizando LOCF para datos tipo object\n",
    "\n",
    "Para este ejemplo, convertí en nulo el campo de mes en las filas donde hubiera valores atípicos dentro del rendimiento real. Después, para la imputación de la columna utilice LOCF (Last Observation Carried Forward), es decir reemplazar los nulos por el valor no nulo más reciente antes de su fila. En mi opinión, esta técnica funciona bastante bien para esta base de datos ya que para las columnas de Línea y Mes el valor de los datos no cambia constantemente en cada fila."
   ]
  },
  {
   "cell_type": "code",
   "execution_count": 12,
   "id": "c1a6b68b-019c-41a5-bf6f-40738e61cb90",
   "metadata": {},
   "source": [
    "print('Meses antes de ser convertidos en nulo: \\n',df['Mes'][df['Mes'].index.isin(df_rendimiento_real.index)])\n",
    "\n",
    "df['Mes'] = df['Mes'].where(~df['Mes'].index.isin(df_rendimiento_real.index), np.nan)\n",
    "print('\\nNulos:\\n', df['Mes'][df['Mes'].index.isin(df_rendimiento_real.index)])\n",
    "\n",
    "df['Mes'].ffill(inplace=True)\n",
    "print('\\nResultado después de aplicar LOCF:\\n', df['Mes'][df['Mes'].index.isin(df_rendimiento_real.index)])"
   ],
   "outputs": []
  },
  {
   "cell_type": "markdown",
   "id": "186374e1-7778-4269-8e74-827287a497a3",
   "metadata": {},
   "source": [
    "### Imputación utilizando regresión para datos numéricos\n",
    "\n",
    "Para la imputación de datos numéricos inicialmente reemplacé los datos atípicos dentro de la columna de Rendimiento Real con nulos. Planeaba reemplazar todos los nulos con el promedio del Rendimiento Real, pero según lo investigado, esta técnica puede dificultar la estimación de la varianza y el error, por lo que opte por utilizar la regresión. En mi opinión, debido a la correlación de las variables con el Rendimiento Real, en especial Rendimiento std y Diferencia de Rendimiento, la regresión fue una buena elección."
   ]
  },
  {
   "cell_type": "code",
   "execution_count": 13,
   "id": "607210d3-0000-4413-a345-e5c9ce150917",
   "metadata": {},
   "source": [
    "print('Datos iniciales antes de convertir en nulo:\\n',df['Rendimeinto Real'][df['Rendimeinto Real'].index.isin(df_rendimiento_real.index)])\n",
    "df['Rendimeinto Real'] = df['Rendimeinto Real'].where(~df['Rendimeinto Real'].index.isin(df_rendimiento_real.index), np.nan)"
   ],
   "outputs": []
  },
  {
   "cell_type": "code",
   "execution_count": 14,
   "id": "174ebcfb-b822-4ec6-a563-5102349cf6cc",
   "metadata": {},
   "source": [
    "X_test = df[df['Rendimeinto Real'].isnull()]\n",
    "X_test = X_test[['Real','Teo',\t'Dif', 'Magnitud', 'Rendimeinto Std', 'Metros cuadrados reales', 'Diferencia de Rendimiento']]"
   ],
   "outputs": []
  },
  {
   "cell_type": "code",
   "execution_count": 15,
   "id": "9a4761b0-aa02-474d-a00c-1ff32c3719f4",
   "metadata": {},
   "source": [
    "new_df = df.dropna(subset=['Rendimeinto Real'])\n",
    "new_df = new_df[['Real','Teo',\t'Dif', 'Magnitud', 'Rendimeinto Std', 'Metros cuadrados reales', 'Diferencia de Rendimiento', 'Rendimeinto Real']]"
   ],
   "outputs": []
  },
  {
   "cell_type": "code",
   "execution_count": 16,
   "id": "348a8a2a-5d8d-4d5e-a3a0-79420b804dd9",
   "metadata": {},
   "source": [
    "y = new_df['Rendimeinto Real']\n",
    "X = new_df.drop('Rendimeinto Real', axis=1)"
   ],
   "outputs": []
  },
  {
   "cell_type": "code",
   "execution_count": 17,
   "id": "ed4f8497-e563-403b-a6e2-cf2d76969246",
   "metadata": {},
   "source": [
    "lr = linear_model.LinearRegression()\n",
    "lr.fit(X, y)\n",
    "y_pred = lr.predict(X_test)\n",
    "print('Valores calculados para los datos faltantes:\\n', pd.Series(y_pred))"
   ],
   "outputs": []
  },
  {
   "cell_type": "code",
   "execution_count": 18,
   "id": "7f66a79d-4903-4315-8f8d-01ef711ed7a1",
   "metadata": {},
   "source": [
    "df.loc[df['Rendimeinto Real'].isnull(), 'Rendimeinto Real'] = y_pred\n",
    "print(\"Valores 'nuevos' en el dataframe: \\n\", df['Rendimeinto Real'][df['Rendimeinto Real'].index.isin(df_rendimiento_real.index)])\n",
    "print(\"\\nNulos en la columna de Rendimiento Real: \", df['Rendimeinto Real'].isnull().sum())"
   ],
   "outputs": []
  },
  {
   "cell_type": "markdown",
   "id": "504cf4ff-224a-4442-adf5-762a22b0d09a",
   "metadata": {},
   "source": [
    "### Referencias:\n",
    "\n",
    "Rutecki, M. (2022, 6 diciembre). *Outlier detection methods!.* Kaggle. https://www.kaggle.com/code/marcinrutecki/outlier-detection-methods\n",
    "Subrahmanya, S. (2018, 7 junio). *Missing Data Imputation using Regression.* Kaggle. https://www.kaggle.com/code/shashankasubrahmanya/missing-data-imputation-using-regression\n",
    "\n",
    "Hyun, K. (2013). *The prevention and handling of the missing data.* Korean Journal of Anesthesiology, 64(5), 402–406. https://doi.org/10.4097/kjae.2013.64.5.402"
   ]
  },
  {
   "cell_type": "code",
   "execution_count": 19,
   "id": "20654beb-b8ae-4944-9687-c2e82e81683e",
   "metadata": {},
   "source": [
    "import pandas as pd\n",
    "import numpy as np\n",
    "\n",
    "paint_df = pd.read_feather('data/analisis_consumo_pintura.feather')\n",
    "paint_square_meters_df = pd.read_feather('data/pintura_metros_cuadrados_reales.feather')\n",
    "paint_performance_df = pd.read_feather('data/rendimiento_pintura.feather')\n",
    "production_df = pd.read_feather('data/production.feather')\n",
    "\n",
    "coating_df = pd.read_feather('data/pinturas_revestidos_jul20_ago23.feather')\n",
    "defects_df=pd.read_feather('data/defects.feather')"
   ],
   "outputs": []
  },
  {
   "cell_type": "markdown",
   "id": "dce77430-8735-4d98-adc4-962525a2a2bc",
   "metadata": {},
   "source": [
    "## 1 _Pipeline_ de datos\n",
    "Se definió una _pipeline_ de procesamiento de datos en un _script_ de Python independiente, con el cuál se tiene un proceso replicable para llegar a una base de datos limpia. Esta _pipeline_ consta de 6 diferentes pasos:\n",
    "\n",
    "- Importación de datos\n",
    "- Concatenación de resúmenes de producción\n",
    "- Separación de analisis de líneas de producción y sus defectos\n",
    "- Selección y renombramiento de columnas\n",
    "- Eliminación de columnas adicionales\n",
    "- Conversión a formato _Feather_.\n",
    "\n",
    "A continuación se muestra un resumen de todo el proceso de la _pipeline_ de datos:\n",
    "\n",
    "### 1.1 Importación de datos\n",
    "La importación de datos consiste en importar todos los datos relevantes de los archivos de excel proveídos por Ternium. Hay un total de 12 archivos diferentes.Cada uno de estos archivos contiene varias _worksheets_ dentro. Para la mayoría, solamente necesitamos importar una de estas. Solamente el archivo de Análisis de consumo de pintura requirió importar mas _worksheets_:\n",
    "\n",
    "- Pinturas y revestidos\n",
    "    - Pintado 1 UNI Agosto\n",
    "- Análisis de consumo de pintura\n",
    "    - Base de datos por pintura\n",
    "    - Metros\n",
    "    - Rendimientos INDU\n",
    "- 10 archivos de resúmenes de producción\n",
    "    - Resúmen producción\n",
    " \n",
    "### 1.2 Concatenación de resúmenes de producción\n",
    "Para unificar toda la información de resúmenes de producción, concatenamos todos estas tablas, para así acabar con una base de datos más cohesiva y extensiva con la cual trabajar. Se ignoro el índice original de las 10 tablas, ya que realmente no tenían ningún significado.\n",
    "\n",
    "### 1.3 Separación de analisis de líneas de producción y sus defectos\n",
    "Los resúmenes de producción contienen un grupo de columnas que se repiten 5 veces. Estás columnas representan hasta 5 posibles defectos en cada línea de producción. Por lo tanto, estas columnas representan una relación uno a muchos entre una línea de producción y sus posibles defectos. Se definió una función que separa estos grupos de 5 columnas hacia una nueva tabla de defectos, con cada defecto recibiendo una referencia hacia su respectiva línea de producción. Finalmente, se eliminaron las columnas de defectos de la tabla original, ya que ahora se pueden referenciar por medio de una operación de merge con la nueva tabla de defectos.\n",
    "\n",
    "### 1.4 Tren de pensamiento\n",
    "Se seleccionaron columnas relevantes de cada base de datos para dejar en la base de datos. Estas columnas fueron renombradas para mejor documentar su propósito. A continuación se tiene una lista de las columnas renombradas para cada base de datos, así como las razones por las cuales las seleccionamos.\n",
    "\n",
    "#### 1.4.1 Pinturas y revestidos\n",
    "- **'Denominación objeto' por 'production_line':** Posible identificador para cada línea de producción\n",
    "- **'Material' por 'paint_id'**: Pintura usada, posible identificador para pinturas\n",
    "- **'Texto breve de material' por 'paint_name'**: Nombre de la pintura usada, posible identificador para pinturas\n",
    "- **'Valor var.' por 'monetary_value_usd'**: Valor monetario en dólares, útil para calcular costos\n",
    "- **'Ctd.total reg.' por 'total_liters_used'**: Litros usados, dato clave\n",
    "- **'Planta' por 'production_plant'**: Identificación de planta, para filtrar datos\n",
    "- **'Proveedor' por 'supplier'**: Proveedor, para análisis de datos agrupados\n",
    "- **'Registrado' por 'date'**: Fecha de los datos, dato clave\n",
    "- **'Hora' por 'hour'**: Hora de los datos, dato clave\n",
    "- **'Precio' por 'price_per_liter'**: Precio de cada litro, útil para calcular costos\n",
    "\n",
    "#### 1.4.2 Análisis de consumo de pintura\n",
    "- **'Linea' por 'production_line'**: Línea de producción\n",
    "- **'Mes' por 'month'**: Mes del consumo de pintura, dato clave\n",
    "- **'Mes num' por 'month_number'**: Número del mes\n",
    "- **'Pintura' por 'paint'**: Pintura, posible identificador para pinturas\n",
    "- **'Real' por 'real_consumption'**: Consumo real, dato clave\n",
    "- **'Teo' por 'theoretical_consumption'**: Consumo tórico, dato clave\n",
    "- **'Dif' por 'consumption_difference'**: Diferencia de consumos, dato clave\n",
    "- **'Rendimeinto Std' por 'average_yield'**: Rendimiento promedio, dato clave\n",
    "- **'Rendimeinto Real' por 'real_yield'**: Rendimiento real, dato clave\n",
    "- **'Diferencia de Rendimiento' por 'yield_difference'**: Diferencia de rendimientos, dato clave\n",
    "- **'Metros cuadrados reales' por 'real_produced_square_meters'**: Metros cuadrados reales producidos, dato clave\n",
    "\n",
    "#### 1.4.3 Rendimientos de pinturas por metro cuadrado\n",
    "- **'Linea' por 'production_line'**: Identificador para cada línea de producción\n",
    "- **'Mes' por 'month'**: Mes del dato\n",
    "- **'Num mes' por 'month_number'**: Numero del mes\n",
    "- **'Pintura' por 'paint_name'**: Nombre de la pintura\n",
    "- **'Metros cuadrados reales (m2)' por 'real_square_meters'**: Metros cuadrados de rendimiento de la pintura\n",
    "\n",
    "#### 1.4.4 Rendimientos de pinturas metros cuadrados por litro\n",
    "- **'Pintura' por 'paint_name'**: Nombre de la pintura\n",
    "- **'Clave' por 'paint_code'**: Identificador de la pintura\n",
    "- **'Rendimiento Canning [m2/L]' por  'paint_performance_m2/l'**: Rendimiento de metros cuadrados por litro\n",
    "\n",
    "#### 1.4.5 Resumen de producción\n",
    "- **'Linea' por 'production_line'**: Posible identificador para cada línea de producción\n",
    "- **'Material Entrada' por 'input_material_code'**: Id del material de entrada, dato clave\n",
    "- **'Material Salida' por 'output_material_code'**: Id del material de salida, dato clave\n",
    "- **'Fecha Inicio' por 'start_date'**: Fecha de inicio de la producción, dato clave\n",
    "- **'Fecha Fin' por 'end_date'**: Fecha de fin de la producción, dato clave\n",
    "- **'Cliente' por 'client_name'**: Cliente, posible agrupación\n",
    "- **'Código Clear Inf' por 'inferior_clear_code'**: Código del _clear_ inferior\n",
    "- **'Código Clear Sup' por 'superior_clear_code'**: Código del _clear_ superior\n",
    "- **'Ancho 1' por 'width1_mm'**: Ancho 1, dato clave\n",
    "- **'Ancho 2' por 'width2_mm'**: Ancho 2, dato clave\n",
    "- **'Ancho 3' por 'width3_8mm'**: Ancho 3, dato clave\n",
    "- **'Ancho' por 'width_mm'**: Ancho promedio, dato clave\n",
    "- **'Espesor 1' por 'thickness1_mm'**: Espesor 1, dato clave\n",
    "- **'Espesor 2' por 'thickness2_mm'**: Espesor 2, dato clave\n",
    "- **'Espesor 3' por 'thickness3_mm'**: Espesor 3, dato clave\n",
    "- **'Espesor' por 'thickness_mm'**: Espesor promedio, dato clave\n",
    "- **'Peso Entrada' por 'input_weight_kg'**: Peso de entrada, dato clave\n",
    "- **'Peso' por 'weight_kg'**: Peso de salida, dato clave\n",
    "- **'Largo' por 'length_m'**: largo total, dato clave\n",
    "- **'Color Inferior' por 'inferior_color_code'**: Código del color inferior\n",
    "- **'Color Superior' por 'superior_color_code'**: Código del color superior\n",
    "- **'Primer Superior' por 'superior_primer_code'**: Código del _primer_ superior\n",
    "- **'Primer Inferior' por 'inferior_primer_code'**: Código del _primer_ inferior\n",
    "- **'Ruta Teórica' por 'route'**: Ruta teórica de la producción, nos sirve para filtrar las líneas de producción de UNI\n",
    "\n",
    "#### 1.4.6 Defectos de producción\n",
    "- **'Codigo defecto' por 'defect_code'**: Posible identificador para tipo de defecto\n",
    "- **'Defecto' por 'defect_name'**: Nombre de defecto\n",
    "- **'Ubicacion' por 'location'**: Ubicación en la línea donde sucedió el defecto\n",
    "- **'Es Contencion' por 'is_containment'**: Si el defecto fue contención de un suceso\n",
    "- **'Es Prevencion' por 'is_preventive'**: Si el defecto fue prevención de un riesgo\n",
    "- **'Intensidad' por 'intensity'**: Intensidad del suceso\n",
    "- **'Cara' por 'face'**: Cara donde sucedió el defecto\n",
    "- **'Lado' por 'side'**: Lado donde sucedió el defecto\n",
    "- **'Frecuencia' por 'frequency'**: Frecuencia del defecto\n",
    "- **'Fecha Registro' por 'register_date'**: Fecha del suceso\n",
    "\n",
    "### 1.5 Eliminación de columnas adicionales\n",
    "Una vez seleccionadas y renombradas las columnas relevantes, se excluyeron de las tablas todas las columnas adicionales.\n",
    "\n",
    "### 1.6 Conversión a formato _feather_\n",
    "_Feather_ es un format de archivos que permite almacenar tablas o _dataframes_ de una manera eficiente y agnostica al lenguaje. Para el reto, es mucho mas eficiente trabajar con los datos en formato _Feather_ que directamente con los archivos de Excel, por lo cual se decidió utilizar este formato para almacenar los artefactos generados por la _pipeline_ de datos.\n",
    "\n",
    "El proceso de escribir una tabla a formato _Feather_ automáticamente infiere los tipos de todas las columnas, convirtiendo las columnas númericas a sus respectivos tipos, p. ej. '1.02' a tipo _float_ y '232' a tipo _int_. Cualquier otra columna será convertida a tipo _object_, con las cuales se debe llevar a cabo una conversión manual. Esta conversión es realizada en secciones posteriores de este documento.\n",
    "\n",
    "## 2 Filtrado de datos\n",
    "Para cuestiones del reto, solamente es de interés trabajar con datos que sean de la planta Ternium Universidad. Por lo tanto, se necesita filtrar las tablas a que únicamente incluyan valores provenientes de ahi.\n",
    "\n",
    "### 2.1 Pinturas y revestidos\n",
    "Para la tabla de pinturas y revestidos, la columna `production_plant` indica a cual planta pertenece cada línea de producción. Por lo tanto, se filtraron valores diferentes a 'Uni'."
   ]
  },
  {
   "cell_type": "code",
   "execution_count": 20,
   "id": "0abab97f-b4e9-4021-af10-d01af7555564",
   "metadata": {},
   "source": [
    "coating_df = coating_df[coating_df['production_plant'] == 'Uni']\n",
    "coating_df                                                                                            "
   ],
   "outputs": []
  },
  {
   "cell_type": "markdown",
   "id": "1dbc62ca-9220-48e2-a407-d282c587ba61",
   "metadata": {},
   "source": [
    "### 2.2 Resumen de producción\n",
    "Para la tabla de resumen de producción, la columna `route` contiene la ruta teoríca que cada pintura sigue. Para verificar si estos son datos relevantes al caso, fue decidido que se filtraria esta columna con base en las partes de cada ruta. Cada ruta esta estructurada de manera que dice 'planta-planta-planta-planta', separados por guiones. Por lo tanto, se separaron todos los valores y se busco que tuvieran el valor 'UNI' dentro."
   ]
  },
  {
   "cell_type": "code",
   "execution_count": 21,
   "id": "bc1e6b10-1ddd-4f92-b322-96a9c3c591b1",
   "metadata": {},
   "source": [
    "routes = production_df['route'].apply(lambda route: all(map(lambda value: 'UNI' in value, route.split('-'))))\n",
    "production_df = production_df[routes]\n",
    "production_df"
   ],
   "outputs": []
  },
  {
   "cell_type": "markdown",
   "id": "eb947e5f-8d4a-4222-87c6-a66ebff04ff5",
   "metadata": {},
   "source": [
    "## 3 Verificación de inconsistencias en los datos"
   ]
  },
  {
   "cell_type": "markdown",
   "id": "77bd29ed-2359-4bf3-9efa-f0763a4264ed",
   "metadata": {},
   "source": [
    "### 3.1 Análisis de consumo de pintura\n",
    "Primero, para todas las columnas de tipo objeto de la base de datos de análisis de consumo de pintura se convirtieron a sus respectivos tipos.\n",
    "En la tabla principal, hay dos:\n",
    "- production_line: solo tiene dos valores, por lo que es **categoríca**\n",
    "- month: es el mes textual, por lo que es **categoríca**\n",
    "- paint: es el identificador de la pintura, por lo que es un **string**\n",
    "\n",
    "En la tabla de rendimiento por metro cuadrado, hay 3:\n",
    "- production_line: solo tiene dos valores, por lo que es **categoríca**\n",
    "- month: es el mes textual, por lo que es **categoríca**\n",
    "- paint_name: es el identificador de la pintura, por lo que es un **string**\n",
    "\n",
    "En la tabla de rendimiento de metro cuadrado por litro, hay 2:\n",
    "- paint_name: el nombre de la pintura, por lo que es un **string**\n",
    "- paint_code: el identificador de la pintura, por lo que es un **string**"
   ]
  },
  {
   "cell_type": "code",
   "execution_count": 22,
   "id": "12bb8881-7de1-416d-822f-a0af7bcdf971",
   "metadata": {
    "scrolled": true
   },
   "source": [
    "paint_df['production_line'] = paint_df['production_line'].astype('category')\n",
    "paint_df['month'] = paint_df['month'].astype('category')\n",
    "paint_df['paint'] = paint_df['paint'].astype('string')\n",
    "paint_df.info()"
   ],
   "outputs": []
  },
  {
   "cell_type": "code",
   "execution_count": 23,
   "id": "cb2b7bab-aad7-4ea6-ac77-b179d50018f0",
   "metadata": {
    "scrolled": true
   },
   "source": [
    "paint_square_meters_df['production_line'] = paint_square_meters_df['production_line'].astype('category')\n",
    "paint_square_meters_df['month'] = paint_square_meters_df['month'].astype('category')\n",
    "paint_square_meters_df['paint_name'] = paint_square_meters_df['paint_name'].astype('string')\n",
    "paint_square_meters_df.info()"
   ],
   "outputs": []
  },
  {
   "cell_type": "code",
   "execution_count": 24,
   "id": "592b3a0f-3f81-412c-b450-7da20b8fc6c1",
   "metadata": {
    "scrolled": true
   },
   "source": [
    "paint_performance_df['paint_name'] = paint_performance_df['paint_name'].astype('string')\n",
    "paint_performance_df['paint_code'] = paint_performance_df['paint_code'].astype('string')\n",
    "paint_performance_df.info()"
   ],
   "outputs": []
  },
  {
   "cell_type": "markdown",
   "id": "329d94e2-de11-4a4c-b1fe-de5d08dba2e0",
   "metadata": {},
   "source": [
    "#### 3.1.1 Diferencia entre consumo real y teórico\n",
    "\n",
    "Verificamos que la columna de diferencia de consumo se calculara correctamente mediante una serie que contiene la resta del consumo real menos el consumo teórico y comparamos esta diferencia con la de la columna del archivo para verificar si todos los registro son correctos."
   ]
  },
  {
   "cell_type": "code",
   "execution_count": 25,
   "id": "1c8211fb-2d0d-4e42-87a9-fa4a4573e110",
   "metadata": {},
   "source": [
    "calculated_consumption_difference = paint_df['real_consumption'] - paint_df['theoretical_consumption']\n",
    "if paint_df['consumption_difference'].equals(calculated_consumption_difference):\n",
    "    print('La columna \"consumption_difference\" se calculó correctamente.')\n",
    "else:\n",
    "    print('La columna \"consumption_difference\" no se calculó correctamente.')"
   ],
   "outputs": []
  },
  {
   "cell_type": "markdown",
   "id": "dfaa4edf-4c22-41fd-8054-bb2a64e9277c",
   "metadata": {},
   "source": [
    "#### 3.1.2 Metros cuadrados reales\n",
    "\n",
    "Verificamos que los metros cuadrados reales se calcularan correctamente en el dataframe de análisis de consumo de pintura por medio de un dataframe generado por mmedio de un merge con el dataframe de los metros cuadrados de cada pintura para localizar aquellos puntos en los que tanto la línea de producción, el mes y el nombre de la pintura coincidan para comparar los metros cuadrados de cada dataframe"
   ]
  },
  {
   "cell_type": "code",
   "execution_count": 26,
   "id": "4a6fa756-19d8-440d-9437-779c1920fe84",
   "metadata": {
    "scrolled": true
   },
   "source": [
    "paint_merged_df = pd.merge(paint_df, paint_square_meters_df, how='left', left_on=['production_line', 'month', 'paint'], right_on=['production_line', 'month', 'paint_name'])\n",
    "if paint_merged_df['real_produced_square_meters'].equals(paint_merged_df['real_square_meters']):\n",
    "    print('Los metros cuadrados se calcularon correctamente.')\n",
    "else:\n",
    "    print('Los metros cuadrados no se calcularon correctamente.')"
   ],
   "outputs": []
  },
  {
   "cell_type": "markdown",
   "id": "5800563f-f39a-4345-9d12-79ba697de784",
   "metadata": {},
   "source": [
    "#### 3.1.3 Rendimiento Estandar VS Rendimiento Real\n",
    "\n",
    "Se calculó el nuevo rendimiento std utilizando el promedio del rendimientos por pintura, en vez de utilizar el primer valor encontrado en la hoja de rendimientos. Después, se agrego una columna new_average_yield (nuevo rendimiento std) dentro pintura_df. "
   ]
  },
  {
   "cell_type": "code",
   "execution_count": 27,
   "id": "f8291ca1-9f07-4770-96c6-b9aa3aa3e4db",
   "metadata": {},
   "source": [
    "new_performance = paint_performance_df[['paint_name','paint_performance_m2/l']].groupby('paint_name', as_index=False).mean()\n",
    "paint_df = paint_df.merge(new_performance, left_on='paint', right_on='paint_name')\n",
    "paint_df.rename(columns = { 'paint_performance_m2/l': 'new_average_yield'}, inplace=True)\n",
    "paint_df.drop(['paint_name'], axis=1, inplace=True)\n",
    "paint_df"
   ],
   "outputs": []
  },
  {
   "cell_type": "markdown",
   "id": "88c3324e-6c97-43c3-bdc8-675bcf07e2d9",
   "metadata": {},
   "source": [
    "Se calculo el rendimiento real usando la fórmula que ternium nos proporcionó (metros cuadrados reales / rendimiento real), en donde se almacena en una variable. Después, generamos la diferencia entre lo que nosotros calculamos con los datos dentro de la base de datos. Finalmente, el código filtra los datos y verifica si hay diferencias mayores a 0 y de ser así las imprime, si no imprime que no hay."
   ]
  },
  {
   "cell_type": "code",
   "execution_count": 28,
   "id": "bb6d6d6e-44a7-48c8-b979-f07185214504",
   "metadata": {},
   "source": [
    "#Rendimiento real\n",
    "calculated_real_yield =  paint_df['real_produced_square_meters'] / paint_df[ 'real_consumption']\n",
    "real_yield_difference =  paint_df['real_yield'] - calculated_real_yield\n",
    "\n",
    "#Checa si hay valores mayor a 0\n",
    "ry_differences = real_yield_difference[real_yield_difference > 0]\n",
    "if not ry_differences.empty:\n",
    "    print(differences)\n",
    "else:\n",
    "    print(\"Real Yield : No differences found.\")"
   ],
   "outputs": []
  },
  {
   "cell_type": "markdown",
   "id": "56438b36-9399-48d3-ae05-95b8128f39d0",
   "metadata": {},
   "source": [
    "Aquí, se generó una nueva variable en donde almacena la diferencia entre rendimiento real (proporcionado en la bs) y el rendimiento std (utilizando el promedio). Igual que el código anterior si encontró dato mayor a 0 los imprime, de no ser así imprime un mensaje comentando que no hay diferencias.\n",
    "\n",
    "En este resultado podemos ver como si encontró diferencias entre real y el nuuevo rendimiento std, donde varían de decimales hasta enteros."
   ]
  },
  {
   "cell_type": "code",
   "execution_count": 29,
   "id": "d7b81577-f955-4d2f-a093-6363b3c6e5fd",
   "metadata": {},
   "source": [
    "#Rendimiento std\n",
    "##rendimiento real menos rendimineto estandar actualizado\n",
    "average_yield_difference = paint_df['real_yield'] - paint_df['new_average_yield'] \n",
    "\n",
    "#Checa si hay valores mayor a 0\n",
    "ay_differences = average_yield_difference[average_yield_difference > 0]\n",
    "if not ay_differences.empty:\n",
    "    print(ay_differences)\n",
    "else:\n",
    "    print(\"Average Yield : No differences found.\")"
   ],
   "outputs": []
  },
  {
   "cell_type": "markdown",
   "id": "2596d34a-f526-4750-8325-29ca9c42e6d4",
   "metadata": {},
   "source": [
    "### 3.2 Resumen de producción\n",
    "Primero se convirtieron los datos de tipo object del resumen de producción. Se encontrarón 10 columnas:\n",
    "- input_material_code: codigo del material de entrada, **string**\n",
    "- output_material_code: material de salida, **string**\n",
    "- client_name: nombre de cliente, **string**\n",
    "- inferior_clear_code: nombre de _clear_ inferior, **string**\n",
    "- superior_clear_code:nombre de _clear_ superior, **string**\n",
    "- inferior_color_code: nombre de color inferior, **string**\n",
    "- superior_color_code: nombre de color superior, **string**\n",
    "- superior_primer_code: nombre de _primer_ superior, **string**\n",
    "- inferior_primer_code: nombre de _primer_ inferior, **string**\n",
    "- route: ruta a tomar, **string**"
   ]
  },
  {
   "cell_type": "code",
   "execution_count": 30,
   "id": "1227cade-59b3-47a8-850a-94285745dd17",
   "metadata": {
    "scrolled": true
   },
   "source": [
    "production_df['input_material_code'] = production_df['input_material_code'].astype('string')\n",
    "production_df['output_material_code'] = production_df['output_material_code'].astype('string')\n",
    "production_df['client_name'] = production_df['client_name'].astype('string')\n",
    "production_df['inferior_clear_code'] = production_df['inferior_clear_code'].astype('string')\n",
    "production_df['superior_clear_code'] = production_df['superior_clear_code'].astype('string')\n",
    "production_df['inferior_color_code'] = production_df['inferior_color_code'].astype('string')\n",
    "production_df['superior_color_code'] = production_df['superior_color_code'].astype('string')\n",
    "production_df['superior_primer_code'] = production_df['superior_primer_code'].astype('string')\n",
    "production_df['inferior_primer_code'] = production_df['inferior_primer_code'].astype('string')\n",
    "production_df['route'] = production_df['route'].astype('string')\n",
    "production_df.info()"
   ],
   "outputs": []
  },
  {
   "cell_type": "markdown",
   "id": "2c682749-5926-4004-b44b-b020de594461",
   "metadata": {},
   "source": [
    "#### 3.2.1 Promedio de anchos"
   ]
  },
  {
   "cell_type": "markdown",
   "id": "9b2e8cad-8580-4fab-839f-4e7ef0a4f603",
   "metadata": {},
   "source": [
    "En el resultado podemos observar como si llego a detectar diferencias dentro del promedio del espesor, la cantidad de diferencias salió alta debido al margen de diferencia de los decimales. Al checar con un valor mayor a 0 sale un margen alto de datos."
   ]
  },
  {
   "cell_type": "code",
   "execution_count": 31,
   "id": "beb50df3-0c77-42af-b13c-af4fbae75a74",
   "metadata": {},
   "source": [
    "# Calculate average width\n",
    "average_width_mm = production_df[['width1_mm', 'width2_mm', 'width3_mm']].mean(axis=1)\n",
    "#print(average_width_mm)\n",
    "# Calculate real width difference\n",
    "real_width_mm = production_df['width_mm'] - average_width_mm\n",
    "\n",
    "# Check for differences\n",
    "aw_differences = real_width_mm[real_width_mm >  0 ]                                                                                              \n",
    "if not aw_differences.empty:\n",
    "    print(aw_differences)\n",
    "else:\n",
    "    print(\"No Differences\")"
   ],
   "outputs": []
  },
  {
   "cell_type": "markdown",
   "id": "aad81f0d-1851-4863-b260-1106017c6d0a",
   "metadata": {},
   "source": [
    "Si nos vamos a diferencia mayor a 1, disminuye el margen de diferencias. "
   ]
  },
  {
   "cell_type": "code",
   "execution_count": 32,
   "id": "e41ae1b6-e233-4cdc-81b2-25855c7390d8",
   "metadata": {},
   "source": [
    "# Check for differences\n",
    "aw_differences = real_width_mm[real_width_mm >  1 ]\n",
    "if not aw_differences.empty:\n",
    "     print('Differences found: \\n' , aw_differences)\n",
    "else:\n",
    "    print(\"No Differences\")"
   ],
   "outputs": []
  },
  {
   "cell_type": "markdown",
   "id": "8330a963-cee9-4634-833b-8340a4422b41",
   "metadata": {},
   "source": [
    "#### 3.2.2 Promedio de espesores"
   ]
  },
  {
   "cell_type": "markdown",
   "id": "7fc66c1c-9571-48d9-843d-9b52090278ce",
   "metadata": {},
   "source": [
    "En el resultado podemos observar como si llego a detectar diferencias dentro del promedio del espesor, la cantidad de diferencias salió alta debido al margen de diferencia de los decimales. Al checar con un valor mayor a 0 sale un margen alto de datos."
   ]
  },
  {
   "cell_type": "code",
   "execution_count": 33,
   "id": "ba2d7363-5a0e-41e5-a213-215608df5756",
   "metadata": {},
   "source": [
    "average_thickness_mm =production_df[['thickness1_mm', 'thickness2_mm', 'thickness3_mm']].mean(axis=1)\n",
    "\n",
    "difference_thickness_mm =  production_df['thickness1_mm'] - average_thickness_mm \n",
    "\n",
    "# Check for differences\n",
    "t_differences = difference_thickness_mm[difference_thickness_mm >  0]\n",
    "if not t_differences.empty:\n",
    "     print('Differences found: \\n' , t_differences)\n",
    "else:\n",
    "    print(\"No Differences\")"
   ],
   "outputs": []
  },
  {
   "cell_type": "markdown",
   "id": "54b905ba-84a0-473d-9c2c-1185d23f09d7",
   "metadata": {},
   "source": [
    "Si nos vamos a diferencia mayor a 1, disminuye el margen de diferencias. "
   ]
  },
  {
   "cell_type": "code",
   "execution_count": 34,
   "id": "453e9374-97ea-44da-8974-d563bf3a859b",
   "metadata": {},
   "source": [
    "# Check for differences\n",
    "t_differences = difference_thickness_mm[difference_thickness_mm >  1]\n",
    "if not t_differences.empty:\n",
    "    print('Differences found: \\n' , t_differences)\n",
    "else:\n",
    "    print(\"No Differences\")"
   ],
   "outputs": []
  },
  {
   "cell_type": "markdown",
   "id": "3a087e8e-2a85-434a-b104-1c7e7b03af16",
   "metadata": {},
   "source": [
    "#### 3.2.3 Colores repetidos"
   ]
  },
  {
   "cell_type": "markdown",
   "id": "b9f8a5ca-4632-4432-8985-a39fb4691622",
   "metadata": {},
   "source": [
    "Verificamos si es que tenemos renglones/registros en dónde aparezcan los mismos colores. Esto es en las columnas \"Inferior Clear Code\",\" Superior Clear Code\",  \"Clear Inferior\",  \"Clear superior\", \"Color Inferior\",  \"Color Superior\", \"Primer Superior\" y \"Primer Inferior\".\n",
    "\n",
    "Esa verificación fue llevada a cabo al filtrar el dataframe para solo quedarnos con renglones/registros en donde existan pinturas repetidas, se ignoraron los valores None en cada renglon/Registro.\n",
    "\n",
    "Al tener el dataframe filtrado procedemos a obtener información relevante de los procesos de pintado como sacar las tipos de pinturas más utilizadas en cada proceso del pintado; estás siendo clear, superior y color\n"
   ]
  },
  {
   "cell_type": "code",
   "execution_count": 35,
   "id": "eac5ea9b-675c-4d47-8f91-ec5dbf472fbf",
   "metadata": {},
   "source": [
    "#Columnas para evaluar pinturas repetidas\n",
    "relevant_columns = ['inferior_clear_code', 'superior_clear_code', 'inferior_color_code', 'superior_color_code', 'superior_primer_code', 'inferior_primer_code']\n",
    "\n",
    "#Creamos copia de producción\n",
    "filtered_df = production_df.copy()\n",
    "\n",
    "# Función para verificar si hay valores repetidos en un registro específico                                                                                                                                 \n",
    "def check_duplicate_colors(row):\n",
    "    values = [] # se crea una lista de valores en las columnas\n",
    "    for col_name in relevant_columns: #revisamos las columnas relevantes                                                                                                                                                                                                                           \n",
    "        if(row[col_name] != None): # si la columna tiene un identificador de pintura\n",
    "            values.append(row[col_name]) #lo agregamos a la lista\n",
    "\n",
    "    # si todos los valores son unicos y la lista no esta vacía, significa que se llevaron a cabo procesos de pintado y cada uno utilizo pinturas distintas\n",
    "    return len(values) != len(set(values)) and len(values) > 0\n",
    "\n",
    "# Utilizamos la función con el dataframe filtrado\n",
    "duplicate_indices = filtered_df[filtered_df.apply(check_duplicate_colors, axis=1)].index.tolist()\n",
    "\n",
    "# Imprimir indices de renglones con valroes repetidos\n",
    "#print(\"Indices of rows with repeated values in 'inferior_color_code', 'superior_color_code', 'superior_primer_code', and 'inferior_primer_code':\", duplicate_indices)\n",
    "\n",
    "# Renglones con valores repetidos en las columnas de interes\n",
    "rows_with_repeated_values = filtered_df.loc[duplicate_indices, ['inferior_clear_code', 'superior_clear_code', 'inferior_color_code', 'superior_color_code', 'superior_primer_code', 'inferior_primer_code']]\n",
    "\n",
    "rows_with_repeated_values"
   ],
   "outputs": []
  },
  {
   "cell_type": "markdown",
   "id": "b654665b-e9e1-4498-98ab-24c607c9f88f",
   "metadata": {},
   "source": [
    "Información de pinturas existentes en los procesos"
   ]
  },
  {
   "cell_type": "code",
   "execution_count": 36,
   "id": "277b0447-f495-4495-8063-d3f4a0ac605a",
   "metadata": {},
   "source": [
    "# Inicializamos diccionarios para almacenar las pinturas únicas por proceso\n",
    "unique_paints_by_process = {\n",
    "    'clear': set(),\n",
    "    'color': set(),\n",
    "    'primer': set()\n",
    "}\n",
    "\n",
    "# Iteramos sobre cada columna para identificar las pinturas únicas y su proceso correspondiente\n",
    "for col in rows_with_repeated_values.columns:\n",
    "    if 'clear' in col:\n",
    "        unique_paints_by_process['clear'].update(rows_with_repeated_values[col].dropna().unique())\n",
    "    elif 'color' in col:\n",
    "        unique_paints_by_process['color'].update(rows_with_repeated_values[col].dropna().unique())\n",
    "    elif 'primer' in col:\n",
    "        unique_paints_by_process['primer'].update(rows_with_repeated_values[col].dropna().unique())\n",
    "\n",
    "# Convertir sets a listas para una manipulación más fácil si es necesario\n",
    "for process in unique_paints_by_process:\n",
    "    unique_paints_by_process[process] = list(unique_paints_by_process[process])\n",
    "\n",
    "# Mostrar las pinturas únicas por proceso\n",
    "for process, paints in unique_paints_by_process.items():\n",
    "    print(f\"Proceso de {process}:\")\n",
    "    for paint in paints:\n",
    "        print(f\" - {paint}\")\n",
    "\n",
    "# Para obtener una lista general de todas las pinturas únicas, sin importar el proceso\n",
    "all_unique_paints = set().union(*unique_paints_by_process.values())\n",
    "print(\"\\nLista general de todas las pinturas únicas:\")\n",
    "for paint in all_unique_paints:\n",
    "    print(f\" - {paint}\")\n",
    "\n",
    "# Determinar en qué proceso(s) se utiliza cada pintura única\n",
    "paints_process_usage = {paint: [] for paint in all_unique_paints}\n",
    "for paint in all_unique_paints:\n",
    "    for process, paints in unique_paints_by_process.items():\n",
    "        if paint in paints:\n",
    "            paints_process_usage[paint].append(process)\n",
    "\n",
    "# Mostrar en qué proceso(s) se utiliza cada pintura\n",
    "print(\"\\nUso de pinturas en procesos:\")\n",
    "for paint, processes in paints_process_usage.items():\n",
    "    print(f\" - Pintura {paint} se utiliza en el(los) proceso(s) de {' y '.join(processes)}.\")\n"
   ],
   "outputs": []
  },
  {
   "cell_type": "markdown",
   "id": "b5f755d3-c9e8-4f66-9da5-21eaa06c285a",
   "metadata": {},
   "source": [
    "Información sobre colores repetidos en cada tipo de proceso"
   ]
  },
  {
   "cell_type": "code",
   "execution_count": 37,
   "id": "68c54e81-2000-4b56-ad67-6f07d3f32937",
   "metadata": {},
   "source": [
    "# Definimos diccionarios para agrupar los identificadores de pinturas por tipo de proceso\n",
    "clear_codes = {'inferior_clear_code', 'superior_clear_code'}\n",
    "primer_codes = {'inferior_primer_code', 'superior_primer_code'}\n",
    "color_codes = {'inferior_color_code', 'superior_color_code'}\n",
    "\n",
    "# Creamos DataFrames vacíos para cada tipo de proceso\n",
    "clear_paints = pd.DataFrame(columns=['Paint Code', 'Process Type', 'Count'])\n",
    "primer_paints = pd.DataFrame(columns=['Paint Code', 'Process Type', 'Count'])\n",
    "color_paints = pd.DataFrame(columns=['Paint Code', 'Process Type', 'Count'])\n",
    "\n",
    "# Función para contar y agregar pinturas por tipo de proceso\n",
    "def add_paint_count(row, process_dict, process_name, df):\n",
    "    for col_name in process_dict:\n",
    "        paint_code = row[col_name]\n",
    "        if pd.notna(paint_code):  # Verificamos que el código de pintura no sea NaN\n",
    "            if not df[df['Paint Code'] == paint_code].empty:\n",
    "                df.loc[df['Paint Code'] == paint_code, 'Count'] += 1\n",
    "            else:\n",
    "                df = pd.concat([df, pd.DataFrame([[paint_code, process_name, 1]], columns=df.columns)], ignore_index=True)\n",
    "    return df\n",
    "\n",
    "# Recorremos el DataFrame para contar y agrupar pinturas por proceso\n",
    "for index, row in rows_with_repeated_values.iterrows():\n",
    "    clear_paints = add_paint_count(row, clear_codes, 'Clear', clear_paints)\n",
    "    primer_paints = add_paint_count(row, primer_codes, 'Primer', primer_paints)\n",
    "    color_paints = add_paint_count(row, color_codes, 'Color', color_paints)\n",
    "\n",
    "# Unimos los resultados para tener un resumen completo\n",
    "all_paints = pd.concat([clear_paints, primer_paints, color_paints]).reset_index(drop=True)\n",
    "\n",
    "# Mostramos las pinturas existentes y su uso por proceso\n",
    "print(\"Summary of Paint Use by Process:\")\n",
    "#print(all_paints.sort_values(by=['Process Type', 'Count'], ascending=[True, False]))\n",
    "\n",
    "# Para ver cuáles pinturas son las más usadas en cada proceso\n",
    "print(\"\\nMost Used Paints by Process:\")\n",
    "for process_type, group_df in all_paints.groupby('Process Type'):\n",
    "    most_used = group_df.loc[group_df['Count'].idxmax()]\n",
    "    print(f\"{process_type}: {most_used['Paint Code']} used {most_used['Count']} times\")\n",
    "\n",
    "all_paints.sort_values(by=['Process Type', 'Count'], ascending=[True, False])"
   ],
   "outputs": []
  },
  {
   "cell_type": "markdown",
   "id": "6944315b-2013-486c-bf2b-f417aca5d75a",
   "metadata": {},
   "source": [
    "## 4 .Valores faltantes"
   ]
  },
  {
   "cell_type": "markdown",
   "id": "7be5b9c0-b359-43b1-aaf4-cda4024ae350",
   "metadata": {},
   "source": [
    "### 4.1 Suma de nulos por variable "
   ]
  },
  {
   "cell_type": "markdown",
   "id": "71d0b062-5998-4def-b3df-806e454badfe",
   "metadata": {},
   "source": [
    "#### 4.1.1 Análisis de consumo de pintura\n",
    "\n",
    "En el resultado podemos observar cómo no existe algún valor nulo dentro de las variables que seleccionamos para esta base de datos, estos son datos que son necesarios dentro del proceso de pintado."
   ]
  },
  {
   "cell_type": "code",
   "execution_count": 38,
   "id": "b953551e-9213-48a4-9399-1a85f2d3ae57",
   "metadata": {},
   "source": [
    "# Calcular el total de valores nulos para cada columna\n",
    "paint_null_values= paint_df.isnull().sum()\n",
    "\n",
    "print(\"paint_df , Null values per column:\")                             \n",
    "paint_null_values"
   ],
   "outputs": []
  },
  {
   "cell_type": "markdown",
   "id": "e74ff3d7-22d3-4e68-907b-46f9f4927201",
   "metadata": {},
   "source": [
    "#### 4.1.2 Pinturas y revestidos\n",
    "\n",
    "En el resultado podemos observar cómo no existe algún valor nulo dentro de las variables que seleccionamos para esta base de datos, estos son datos que son necesarios en la evaluación del proceso de las pinturas. En donde se identifica datos importantes de la pintura utilizada como proveedor y precio."
   ]
  },
  {
   "cell_type": "code",
   "execution_count": 39,
   "id": "dd63fe9b-a922-4a61-be73-64af2ace36ce",
   "metadata": {},
   "source": [
    "# Calcular el total de valores nulos para cada columna\n",
    "coating_null_values= coating_df.isnull().sum()\n",
    "\n",
    "print(\"coating_df, Null values per column:\")\n",
    "coating_null_values                                                            "
   ],
   "outputs": []
  },
  {
   "cell_type": "markdown",
   "id": "0a65188b-53c8-4e31-8b96-4bf6189986a5",
   "metadata": {},
   "source": [
    "#### 4.1.3 Resumen de producción\n",
    "\n",
    "En el resultado podemos observar cómo aquí si existen valores nulos en algunas variables de la base de datos. Esto puede llegar a pasar porque no se realizó el proceso necesario o hasta no se guardó el dato usado."
   ]
  },
  {
   "cell_type": "code",
   "execution_count": 40,
   "id": "e957275c-c2d1-41af-a327-70e206ecd98e",
   "metadata": {},
   "source": [
    "# Calcular el total de valores nulos para cada columna\n",
    "production_null_values= production_df.isnull().sum()\n",
    "\n",
    "print(\"production_df, Null values per column:\")\n",
    "production_null_values"
   ],
   "outputs": []
  },
  {
   "cell_type": "markdown",
   "id": "88e53aec-ba4d-4d44-9829-dd8f873b8c45",
   "metadata": {},
   "source": [
    "#### 4.1.4 Defectos de producción\n",
    "\n",
    "En este resultado podemos ver como la mayoría de las columnas tienen nulos, esto se debe a que las pinturas no fueron detectadas con algún defecto dentro del proceso de la revisión."
   ]
  },
  {
   "cell_type": "code",
   "execution_count": 41,
   "id": "fbbd5c99-8e0b-4c80-a784-c92efde32c6d",
   "metadata": {},
   "source": [
    "# Calcular el total de valores nulos para cada columna\n",
    "defects_null_values= defects_df.isnull().sum()\n",
    "\n",
    "print(\"defects_df, null values per column:\")\n",
    "defects_null_values"
   ],
   "outputs": []
  },
  {
   "cell_type": "markdown",
   "id": "aadd6a5d-81aa-4f0a-8e0b-f5de98fa0292",
   "metadata": {},
   "source": [
    "### 4.2 Indentificacion de columnas con mayor porcentaje de 15% datos nulos\n",
    "\n",
    "El código calcula primero las filas del dataframe, después calcula el porcentaje de los valores nulos por cada columna y finalmente filtra los datos con el porcentaje seleccionado (en este caso 15%).  Si identifica valores mayores a 15% siendo nulos, te imprime las columnas, de no ser así imprime un mensaje comentando que no hay nulos arriba del %15."
   ]
  },
  {
   "cell_type": "markdown",
   "id": "21e86710-3314-48e8-aca9-f774cbbea6f8",
   "metadata": {},
   "source": [
    "#### 4.2.1 Análisis de consumo de pintura"
   ]
  },
  {
   "cell_type": "code",
   "execution_count": 42,
   "id": "573491a2-908f-40fd-9867-0c9411ea127c",
   "metadata": {},
   "source": [
    "total = paint_df.shape[0]\n",
    "\n",
    "null_values_percentage= (paint_df.isnull().sum() / total) * 100\n",
    "\n",
    "total_nulls= null_values_percentage[null_values_percentage > 15]\n",
    "if not total_nulls.empty:\n",
    "    print(\"Columns with more than 15% null data:\" ,total_nulls)\n",
    "else:\n",
    "    print(\"No columns above 15 percent null data\")"
   ],
   "outputs": []
  },
  {
   "cell_type": "markdown",
   "id": "a40961bb-22e1-432b-8b5b-4f904dbc026b",
   "metadata": {},
   "source": [
    "#### 4.2.2 Pinturas y revestidos"
   ]
  },
  {
   "cell_type": "code",
   "execution_count": 43,
   "id": "c17223f1-5ca8-494e-a2ce-7ceb4a49dd2a",
   "metadata": {},
   "source": [
    "total = coating_df.shape[0]\n",
    "\n",
    "null_values_percentage= (coating_df.isnull().sum() / total) * 100\n",
    "\n",
    "total_nulls= null_values_percentage[null_values_percentage > 15]\n",
    "if not total_nulls.empty:\n",
    "    print(\"Columns with more than 15% null data:\" ,total_nulls)\n",
    "else:\n",
    "    print(\"No columns above 15 percent null data\")"
   ],
   "outputs": []
  },
  {
   "cell_type": "markdown",
   "id": "99653187-735b-4eae-bc21-e04d76ce79c6",
   "metadata": {},
   "source": [
    "#### 4.2.3 Resumen de producción"
   ]
  },
  {
   "cell_type": "code",
   "execution_count": 44,
   "id": "adb822a0-6a37-4342-952d-0a69f6f341dc",
   "metadata": {},
   "source": [
    "total = production_df.shape[0]\n",
    "\n",
    "null_values_percentage= (production_df.isnull().sum() / total) * 100\n",
    "\n",
    "total_nulls= null_values_percentage[null_values_percentage > 15]\n",
    "if not total_nulls.empty:\n",
    "    print(\"Columns with more than 15% null data: \\n\" ,total_nulls)\n",
    "else:\n",
    "    print(\"No columns above 15 percent null data \")"
   ],
   "outputs": []
  },
  {
   "cell_type": "markdown",
   "id": "02b104c4-1484-458b-ba70-317c814af071",
   "metadata": {},
   "source": [
    "#### 4.2.4 Defectos de producción"
   ]
  },
  {
   "cell_type": "code",
   "execution_count": 45,
   "id": "34e31e58-00f6-40a1-b6a9-548c045ccbb3",
   "metadata": {},
   "source": [
    "total = defects_df.shape[0]\n",
    "\n",
    "null_values_percentage= (defects_df.isnull().sum() / total) * 100\n",
    "\n",
    "total_nulls= null_values_percentage[null_values_percentage > 15]\n",
    "if not total_nulls.empty:\n",
    "    print(\"Columns with more than 15% null data: \\n\" ,total_nulls)\n",
    "else:\n",
    "    print(\"No columns above 15 percent null data \")"
   ],
   "outputs": []
  },
  {
   "cell_type": "markdown",
   "id": "dc7d1760-9491-4ae8-82f1-8aa00e070af6",
   "metadata": {},
   "source": [
    "## 5 Registros duplicados\n",
    "\n",
    "Para cada una de los dataframes se utilizó la función de duplicated para identificar las filas duplicadas en cada uno de ellos."
   ]
  },
  {
   "cell_type": "markdown",
   "id": "2f40eeef-84f4-48f7-b9e6-93a3d43b206f",
   "metadata": {},
   "source": [
    "#### 5.1 Resumen de producción"
   ]
  },
  {
   "cell_type": "code",
   "execution_count": 46,
   "id": "f8c251ef-1e3c-4531-ba8b-61c27a35911c",
   "metadata": {},
   "source": [
    "production_df[production_df.duplicated()]"
   ],
   "outputs": []
  },
  {
   "cell_type": "markdown",
   "id": "9acec09b-2a11-4ddd-8a0c-2eb8c8a37806",
   "metadata": {},
   "source": [
    "#### 5.2 Análisis de consumo de pintura"
   ]
  },
  {
   "cell_type": "code",
   "execution_count": 47,
   "id": "ea19dac6-bb2f-4921-b586-f599d90ab251",
   "metadata": {},
   "source": [
    "paint_df[paint_df.duplicated()]"
   ],
   "outputs": []
  },
  {
   "cell_type": "markdown",
   "id": "3d9de694-f122-4399-8917-0d0c1988d7fc",
   "metadata": {},
   "source": [
    "#### 5.3 Pinturas y revestidos"
   ]
  },
  {
   "cell_type": "code",
   "execution_count": 48,
   "id": "f2edd0c7-d844-4e3e-9b9e-e98c032d5d8d",
   "metadata": {},
   "source": [
    "defects_df[defects_df.duplicated(keep=False)]                       "
   ],
   "outputs": []
  },
  {
   "cell_type": "code",
   "execution_count": 49,
   "id": "2ade6a5e-d186-47bc-8b14-f8897e50c81c",
   "metadata": {},
   "source": [
    "coating_df[coating_df.duplicated()]       "
   ],
   "outputs": []
  },
  {
   "cell_type": "markdown",
   "id": "f611d197-f568-445c-8a74-8d71ec564c04",
   "metadata": {},
   "source": [
    "## Contribución individual\n",
    "\n",
    "#### Hiram Muñoz\n",
    "Construcción del _script_ de procesamiento de datos, verificación de tipos de datos, selección y eliminación de columnas innecesarias.\n",
    "#### Raúl Murillo \n",
    "Verificación de la columna de diferencia de las columnas real y teórico y de la verificación de los metros cuadrados reales.\n",
    "\n",
    "#### Andrea Garza \n",
    "Verificación del rendimiento real y diferencia con el rendimiento estándar, Calculo e identificación de diferencias en el promedio de Ancho y Espesor e Identificación de valores faltantes.\n",
    "\n",
    "#### Erick Hernández \n",
    "Calculo de nuevo rendimiento std, identificación de renglones duplicados y verificación de metros cuadrados reales \n",
    "\n",
    "#### David Martínez\n",
    "Cambio de nombres de variables y analizar información sobre pinturas repetidas en los renglones de producción (encontrados duplicados y segmentadas pinturas que aparecen por cada proceso)\n",
    "\n",
    "#### Distribucion de Tareas: \n",
    "https://docs.google.com/spreadsheets/d/1Nx3N0PPtPqMVHnxO9pkpvJUUQX7RMOTvP8N3Cbafq70/edit?usp=sharing "
   ]
  },
  {
   "cell_type": "markdown",
   "id": "f212955c-2215-445c-961e-733e9d7e0ddf",
   "metadata": {},
   "source": [
    "## Referencias\n",
    "Apache Software Foundation. (s. f.). Feather File Format — Apache Arrow v15.0.1. Recuperado 12 de marzo de 2024, de https://arrow.apache.org/docs/python/feather.html"
   ]
  }
 ],
 "metadata": {
  "kernelspec": {
   "display_name": "Python 3 (ipykernel)",
   "language": "python",
   "name": "python3"
  },
  "language_info": {
   "codemirror_mode": {
    "name": "ipython",
    "version": 3
   },
   "file_extension": ".py",
   "mimetype": "text/x-python",
   "name": "python",
   "nbconvert_exporter": "python",
   "pygments_lexer": "ipython3",
   "version": "3.12.3"
  }
 },
 "nbformat": 4,
 "nbformat_minor": 5
}
